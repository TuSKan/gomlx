{
 "cells": [
  {
   "cell_type": "markdown",
   "metadata": {},
   "source": [
    "# MNIST\n",
    "\n",
    "MNIST is a simple computer vision dataset that consists of images of handwritten digits.\n",
    "\n",
    "Some examples:\n",
    "\n",
    "![MNIST digits sample](https://github.com/user-attachments/assets/996c11e0-47f9-4b21-8e23-3867b8942e64)\n",
    "\n",
    "It also includes labels for each image, which we use to train our example models.\n",
    "\n",
    "## The `mnist` library\n",
    "\n",
    "This package includes the following functionality:\n",
    "\n",
    "  - Download the dataset from [storage.googleapis.com/cvdf-datasets/mnist](https://storage.googleapis.com/cvdf-datasets/mnist),\n",
    "  - Create a `Dataset` object to iterate over it, use for training and evaluation.\n",
    "  - A linear and a CNN model demo.\n",
    "  - A command-line demo (in the `demo` sub-directory).\n",
    "\n",
    "This notebook serves as documentation and example for the [github.com/gomlx/gomlx/examples/mnist](https://github.com/gomlx/gomlx/examples/mnist) library, and the demo code in one piece can be seen in [.../examples/mnist/demo/](https://github.com/gomlx/gomlx/tree/main/examples/mnist/demo)"
   ]
  },
  {
   "cell_type": "markdown",
   "metadata": {},
   "source": [
    "## Environment Set Up\n",
    "\n",
    "Let's set up `go.mod` to use the local copy of GoMLX, so it can be developed jointly the dataset code with the model. That's often how data pre-processing and model code is developed together with experimentation.\n",
    "\n",
    "If you are not changing code, feel free to simply skip this cell. Or if you used a different directory for you projects, change it below.\n",
    "\n",
    "Notice the directory `${HOME}/Projects/gomlx` is where the GoMLX code is copied by default in [its Docker](https://hub.docker.com/repository/docker/janpfeifer/gomlx_jupyterlab/general)."
   ]
  },
  {
   "cell_type": "code",
   "execution_count": 3,
   "metadata": {},
   "outputs": [
    {
     "name": "stdout",
     "output_type": "stream",
     "text": [
      "\t- Added replace rule for module \"github.com/gomlx/gomlx\" to local directory \"/home/rener/dev/gomlx\".\n"
     ]
    }
   ],
   "source": [
    "!*rm -f go.work && go work init && go work use . \"${HOME}/dev/gomlx\"\n",
    "%goworkfix"
   ]
  },
  {
   "cell_type": "markdown",
   "metadata": {},
   "source": [
    "## Data Preparation\n",
    "\n",
    "### Downloading data files\n",
    "\n",
    "To download to the local directory, simply do the following. Notice if it's already downloaded in the given `--data` directory, it returns immediately."
   ]
  },
  {
   "cell_type": "code",
   "execution_count": 4,
   "metadata": {},
   "outputs": [],
   "source": [
    "import (\n",
    "    \"github.com/gomlx/gomlx/examples/mnist\"\n",
    "    \"github.com/gomlx/gomlx/ml/data\"\n",
    "    \"github.com/janpfeifer/must\"\n",
    ")\n",
    "\n",
    "var flagDataDir = flag.String(\"data\", \"~/work/mnist\", \"Directory to cache downloaded and generated dataset files.\")\n",
    "\n",
    "func AssertDownloaded() {\n",
    "    *flagDataDir = data.ReplaceTildeInDir(*flagDataDir)\n",
    "    if !data.FileExists(*flagDataDir) {\n",
    "        must.M(os.MkdirAll(*flagDataDir, 0777))\n",
    "    }\n",
    "\n",
    "   must.M(mnist.Download(*flagDataDir))\n",
    "}\n",
    "\n",
    "%%\n",
    "AssertDownloaded()"
   ]
  },
  {
   "cell_type": "code",
   "execution_count": 5,
   "metadata": {},
   "outputs": [
    {
     "name": "stdout",
     "output_type": "stream",
     "text": [
      "total 12M\n",
      "drwxr-x--- 2 rener rener 4.0K Feb 16 21:39 cnn\n",
      "drwxr-x--- 2 rener rener 4.0K Feb 16 21:37 linear\n",
      "-rw-r--r-- 1 rener rener 1.6M Feb 13 23:43 t10k-images-idx3-ubyte.gz\n",
      "-rw-r--r-- 1 rener rener 4.5K Feb 13 23:43 t10k-labels-idx1-ubyte.gz\n",
      "-rw-r--r-- 1 rener rener 9.5M Feb 13 23:43 train-images-idx3-ubyte.gz\n",
      "-rw-r--r-- 1 rener rener  29K Feb 13 23:43 train-labels-idx1-ubyte.gz\n"
     ]
    }
   ],
   "source": [
    "!ls -lh ~/work/mnist/"
   ]
  },
  {
   "cell_type": "markdown",
   "metadata": {},
   "source": [
    "### Sample some images\n",
    "The `mnist.NewDataset` creates a `data.InMemoryDataset` that can be used both for training, evaluation, or just to sample a few examples, which we do below:"
   ]
  },
  {
   "cell_type": "code",
   "execution_count": 6,
   "metadata": {},
   "outputs": [
    {
     "data": {
      "text/html": [
       "<p>Samples MNIST</p>\n"
      ]
     },
     "metadata": {},
     "output_type": "display_data"
    },
    {
     "data": {
      "text/html": [
       "<table><tr>\n",
       "<td><figure style=\"padding:4px;text-align: center;\"><img width=\"56\" height=\"56\" src=\"data:image/png;base64,iVBORw0KGgoAAAANSUhEUgAAABwAAAAcCAIAAAD9b0jDAAACGklEQVR4nOyVMWvqUBTHb9pQ2tDQpu1SSCFLO7T0E5SWbF1KhxQKXbsEcRNFiIODIOJncHDIoOgiGLIoRHRyE3VS4hIxg8ZBwRByng96eUFeHzyjfdDh/bZ7OPnln8Mhdwf9A/5Lv4H07Ozs7e3txwfL5VKW5d3d3a0i3N/fd7tdANA0rVQqDYdDAAiHwxvqDg8PVVVdLBa2bQcCgb29PZqmW60WABSLxU2MR0dH4/EYACzLomkaF1mWhQ8SicRv/X+ZKUmSoig2Gg2GYRRFubu7m81mCCGO42RZxj0HBwc+ApIkGQqFcBxVVSmKQggRBHF5eVkoFOAXDw8PPqSiKALAfD6XJGl/fx8XM5kMrJDP53d21l6hx8fH6XTqOE4ymcSV09PTeDzuOI5nHI1GLMuua6QoqtlsAkAqlUII0TQdi8Umk8lqRl3Xj4+PfXx4NpsFgF6vx/O8JEmmacInotGoD6MnXcW27XQ63W638bHT6VxcXPiTUhSlaRoAuK5rmma9Xj8/P7+9vTUMA79AFEWCIPxJ8cK/vr6+vLzg4/X1tZc6l8v51n3m6emp3+9jYzAYZBhmW+PV1VW5XMbGWq3mLezm8Dw/GAywsVKpfEHG5+dny7K8USqKspWOIIhIJOK6LtYZhiFJ0s3NzVZSQRC8gNVq9eTkxNfjf/4XcByHENJ1/f39XRAEy7K2yvglfI/bdB1+BgAA//8HP2RbiqavFQAAAABJRU5ErkJggg==\"><figcaption style=\"text-align: center;\">([9])</figcaption></figure></td>\n",
       "<td><figure style=\"padding:4px;text-align: center;\"><img width=\"56\" height=\"56\" src=\"data:image/png;base64,iVBORw0KGgoAAAANSUhEUgAAABwAAAAcCAIAAAD9b0jDAAABf0lEQVR4nOzTsYrqQBQG4P9eboKWBuwtLAQRLFSw8RHyBHZqJwhqYyEW16cRSxERbATTmkrQTghCKrVQNP7jLOx0u0GUna12/yocZr6cQ07+4hvyi/5k9F9o1bKsVColpfR9X1Wy2WypVJJSlstly7IA/H+PEOLZV/X7fX6KEOJDpVKphF5/efz1ek1SPScSidAzf0Krpmnm8/nz+TwcDh3HWa1WAObz+XK5NAzD87xoNArAtu3xePxqWyGpVqtqdt/3Y7GYBhHAdDpVqG3besRms3m9XkkGQZDL5TSIpmnOZjOSl8ul1WppEAG02201+G630yMC2O/3CtXzxQE0Gg0ppRBisVgYhvH48FPLH4/Hk8nk/X6XUk4mk9vtpqHNTqdD8nA4dLvdSCSiQazVakEQkCwWixo49XdvNhuSo9FIjwjAdV2S2+02k8noEdPp9PF4JDkYDPSIAOr1OsnT6VQoFLShjuOQ7PV6r158tKeu6wLwPO9rvWnKWwAAAP//GuDhaxuMYCYAAAAASUVORK5CYII=\"><figcaption style=\"text-align: center;\">([7])</figcaption></figure></td>\n",
       "<td><figure style=\"padding:4px;text-align: center;\"><img width=\"56\" height=\"56\" src=\"data:image/png;base64,iVBORw0KGgoAAAANSUhEUgAAABwAAAAcCAIAAAD9b0jDAAABSklEQVR4nOzVsYrCMBgH8A8HQY1LXkBwkAzqJI5OgiIIgoi+gc/h7Org4CLuLoVOHToVSodufYemTQm0dPvKwYW76TjOu8/jhvtPGcKPfwLJV4Mn5B/9Zkajkda6qirOOU2X8XislELEw+HQaDQIxHq9HkURIjqO02q1CMR+v2/bNiJ6ntdutz/c8/CdDofD2WwGAEEQ5HlOUHMymcRxjIha606nQyACgOu6+JrNZkMjTqdTKSUiKqW63S6BKIR4FxeLBYEIANvt1hz8dDrRiPP5PE1TREySRAhBg97vd1Nzt9sRcIyx/X6fZRki3m43xhgB2uv1TMcwDL8ufvaiGGPH49Gsfd8viuKnHZvNpmVZpub1eqX5ipbLJb5ltVoRiJzzsiyNKKUcDAbENc/nM4EIAOv12oiXy6VWe8ocezh/bJr+NvoSAAD//xoStZKkyRNZAAAAAElFTkSuQmCC\"><figcaption style=\"text-align: center;\">([1])</figcaption></figure></td>\n",
       "<td><figure style=\"padding:4px;text-align: center;\"><img width=\"56\" height=\"56\" src=\"data:image/png;base64,iVBORw0KGgoAAAANSUhEUgAAABwAAAAcCAIAAAD9b0jDAAACDElEQVR4nOyVO4viUBSAk2EsFKJgIViY0i5VCrUwlSB2/gILtRIrsRBs7MRGUERBsFR8dJJGIxptgrYWNhYmKFj5CCRC2GsWJrvZrI+JOrvNsl+nJ/c7555zb/IG/QX+S+8ym804jsvn861WC8fxP5NwOp2Cn+z3+3g8/lUjiqLL5RL8zmaz6XQ6JpPpRWM2mwVXnM9nAEA4HEYQ5GlpKBRSd12v13O5HMuyqhQA0Gg0zGbzc9LxeKwsZhhG+SeVSrEsq0oBAJVK5TlprVabz+fValWVGgwGp9MZDAYFQVCk2+22WCw+0Yf1eg0AEEXxeuKFQkGSJLXeZrP56NwUab/fvxktl8va6UWjUX2jx+M5Ho+fSDEMU1qsSDmOu3jg/XoNjuNKp2AYvimdf2C1WpPJJAzDb28P3HWCIHie/6TSH+W8v49GIwDAbrfDMEwbupFkMpnwPK+b+9sHEARZLBaCIHSkEAT1ej2luZFI5J603W673W7d3L+gaVoZAs/zJEn6fD6Hw6FGvV4vSZJKi5QDa7PZ9KV2u321WmnPzWKxoChqMBhQFHU6nbShTCbzaLHpdPr6hSLLsvanIAg0TWs3oQOKogzDcByn3ssLqSiK3W73Ud0FgUBAbbEsy4fDYTgclkqlWCx2b8nt430BgiCJRMLlchmNRr/fL0nSiwV+hX/jE/0y3wMAAP//M0m1J2I6K+MAAAAASUVORK5CYII=\"><figcaption style=\"text-align: center;\">([0])</figcaption></figure></td>\n",
       "<td><figure style=\"padding:4px;text-align: center;\"><img width=\"56\" height=\"56\" src=\"data:image/png;base64,iVBORw0KGgoAAAANSUhEUgAAABwAAAAcCAIAAAD9b0jDAAABmUlEQVR4nOyVMY8BQRiGvz23VCviD6xiRMgGCY1CI6IhOiWVSilR0GhUfoKSkppq4xdsolVQbDEN5caOYmYuuQm5kHN2by5R3FNt8u0+eXf3zTdv8Af8S19GGolEDMMol8vL5ZIxlkgkvk7fn7RUKpVsNgsAmUxG13XDMDRNAwBFUTjnCKHtdust13A4ZIzRC/fX1WrVmzEej59OJ4zxvdSyrMFgUCwWA4GAN+l6vWaMcc7ZJ4QQy7L6/T5CyJvoSigU2u12Ip3ruovFIp1O+3Rd6XQ64k1Xq5XnD/cdpmkKaTAYfP6pH3qqXBiNRr9OeCGXy7muSyk9n8/NZlOadzKZiB91OBwKhYIcqaqqs9lMdBNj3Gg05HgBoNfriZ5ijHVdlyNVVXWz2YgmjMdjOVIAqNfrjuNQSvf7vTSppmm2bVNKp9Pp4zuVB7NwOByNRkulkoiJEEqlUrZtx2IxP6FqtZppmsfj8WYzOY7Tbrf9GPP5vCj8zd6cz+fdbtePEQBardb9MiaEJJNJn0YpvNJp+piPAAAA//+0sxhNroGFygAAAABJRU5ErkJggg==\"><figcaption style=\"text-align: center;\">([5])</figcaption></figure></td>\n",
       "<td><figure style=\"padding:4px;text-align: center;\"><img width=\"56\" height=\"56\" src=\"data:image/png;base64,iVBORw0KGgoAAAANSUhEUgAAABwAAAAcCAIAAAD9b0jDAAABz0lEQVR4nOyVP8viQBCH4ykWga1S26aRIJjGwiYggsbW1tZPIGilIFiI1wnprJUIYoKNpaUfwU4lBKxclIA4Yw6ynCfqmz9yx9vcU8n648nuzmTyg/sH/JeGRRCERqNBKXVd1zCMnx6EkM8fXiwWt9steCAi/Ga1WgmC8ImxUqncRe12O+dRq9VOpxMi6rr+ifFyuSDifr+v1+vxePz+l6qqiOg4TjabjWCUJMmyLETc7XaiKL4GbrcbIo7H4wjSyWTCTv3WyHGcYRgA8CT1q34+n1cUheO4bre72Wwi7MUHSikAzOfzx3t8ghUw1E55njdNkxByvV5N00TEtzFCSMzjfD4H77FarbJ+bLVaPrF+v4+Ix+MxnU4HS6fTKQDYtu3T2KlU6nA4IOJoNAo2yrLsOA4AqKrqE+v1egBAKc1kMsHSZrOJHmEysiwHGx9786uAJElsDmiaFsoYKBVF0bIsAFgul8lkMpp0vV6/Nc5mMzYHQlX8Ufp6p4lEotPpsPWv5sCf8OuSbduu6zL7YrGIxWLlcpnn+VKpxNYLhULkt5YQouv60zBmv4fDYS6Xi6a7w/M8Oywzapo2GAwURYlQmb/Od39Nv1n6KwAA//+Q6UphOlQj9gAAAABJRU5ErkJggg==\"><figcaption style=\"text-align: center;\">([0])</figcaption></figure></td>\n",
       "<td><figure style=\"padding:4px;text-align: center;\"><img width=\"56\" height=\"56\" src=\"data:image/png;base64,iVBORw0KGgoAAAANSUhEUgAAABwAAAAcCAIAAAD9b0jDAAAB0klEQVR4nOyTv8/pUBjHn+veNBSpiATdDCaJpFOTxuBHDBg7WE0GJhZ/hEEYTBZbV8JgMRgwme9iE02DShE5yImbvCdp3N575dK+2/udetLn+fT7fZ4eG3yCvqBfUIv1w3AWBGE8HlMUtVgser3e46tCoRAKhRRFabfboihGo1EAqFQqzWbz2RcEQRgMBvgVXa/XarVq4PwWP5VKZTKZl5J+/9CzCofDMZlMXnKKMdY0LR6PP3K+Gbgul0uWZZqmJUliWXaz2WiaBgDBYBAAZFkGAIZhRFHUW2azWSwWe4QYF3U6nSKRiM1mW61Wdrv9crncbjcS4n6/I4QAwOfzhcNhsigAOB6PL03sL/J4PP1+X89+OBy8Xq9ZaD6ffxzofD43S2y1Wqqq6kRVVf1+/59lxpk+EcdxPM8zDEOOPz+kKMr7HjmO2+12usfz+ZzL5f5V/L93n6bp/X5PnhFCo9FoOBy+7xEAstnsdrslHpfLZTKZNIUDALfb3Wg0CHE6nabTabNEp9MpSZJOZFnWLBEAeJ5fr9dkM4IgWEBMJBLkr1RVtVwuW0CkKKrT6ZDgtVrNAiIAFItFjDFCqF6vBwIBa6DdbhdjXCqV3uj9FQAA//+bqUVFo+11dAAAAABJRU5ErkJggg==\"><figcaption style=\"text-align: center;\">([7])</figcaption></figure></td>\n",
       "<td><figure style=\"padding:4px;text-align: center;\"><img width=\"56\" height=\"56\" src=\"data:image/png;base64,iVBORw0KGgoAAAANSUhEUgAAABwAAAAcCAIAAAD9b0jDAAAB1ElEQVR4nOSVP4viQBiHxzMqRgRHQVRSi4U2p4iFpQQRLbQQLKaxsRO08SPY2NgG9DukFARRUGwjFnYWQixExD/YjA4HN5wEdZPNLFsc+1RJePPk92beSX6Bb+CHS62GFb1eLxKJVKtVSZIwxhaLRRAEnuf3+z3jMwuFwuVyIS8cj8darcYo7XQ6r0bK6XTKZDJv77LoS30+H0LI7/cDAAKBQD6fBwDwfwEAKIqSTCYxxoyRtZTL5Udean+CM6ULhULZbBYhRE8Xi8WXYobD4cFgoF208/lcr9fZjYIgbDabp4U6HA6JRIJdGo/H3w7AbDbjuDcv0PSOWq/X2+2WHqdSKbvdzpiU5/nf/4AQBoPB8XhMw1YqFUbpK8ViUWekntvnOM7j8bhcLn1pLBYzEQEhRAiZz+cOh0PHqKoqIWQymVitRp8km82mKArta7VaRaPR1xoIoSzLhBCMsSiKxjFLpZJ2YlRVbTQa2oJms0kzEkKGw6GxEQDgdDpbrZbWizHu9/vtdluW5d1ud7vd6PXlcgkh/JSUdvcYl4+4Xq+5XO6zRorb7R6NRh8Zp9NpOp02Z3zk7Xa72v1+v98lSRJF0ev1shi/zv/zi/4W6Z8AAAD//yWYb4MAPLvnAAAAAElFTkSuQmCC\"><figcaption style=\"text-align: center;\">([3])</figcaption></figure></td>\n",
       "<td><figure style=\"padding:4px;text-align: center;\"><img width=\"56\" height=\"56\" src=\"data:image/png;base64,iVBORw0KGgoAAAANSUhEUgAAABwAAAAcCAIAAAD9b0jDAAABZ0lEQVR4nOyUoY7yQBRGp3/+IBizZgwKgRpfUVXLA6ArwFBJMDU8A6kZhcZgMBhMyxMgAI0Zc0MyiAsEM7ebtAnZBLNt2WST5cgv6clJett/7Ad4S/+a9CPnVTbmOE4YhmmaJklS+uFGo/Hc4rpumqbWWmNMt9stLVVKrVYrKeVjCYLgfr8T0W63+7p/F9/3D4fDYDBgjEkpoyg6Ho9EBABxHAshShsZY5PJBAA8z5vNZsYYIrLWKqVarVYVXUEcx1mWUQ4ijsfjdrtdXSeECMNwu90WdUmSeJ5XXcc5j6LocrkUgefzOQiC6rrizWqtbQ4AWGuHw2EtY6/XK+rW6zXnfLFYAECVo3kgpdRaI2K/3+ecz+dzROx0OrUylVJE5Obs93tE9H2/lOH/8ySEyLJsNBoxxk6n03Q63Ww2tTKLOzfGaK2Xy2W1T8V5njjnzWbzdrtdr9e6gS/kd//539IHnwEAAP//efC8ppH28BAAAAAASUVORK5CYII=\"><figcaption style=\"text-align: center;\">([8])</figcaption></figure></td>\n",
       "<td><figure style=\"padding:4px;text-align: center;\"><img width=\"56\" height=\"56\" src=\"data:image/png;base64,iVBORw0KGgoAAAANSUhEUgAAABwAAAAcCAIAAAD9b0jDAAABLklEQVR4nOyVv4qrQBSHh0sICYHAFAkhpLfVQmtr38BStPNR5m20kCktrCwFO1EQbBQsRhgtrm4hSFg2ZmadbZb9qlPMfOd3Dv75B36AP+kaCKFpmpqmURRFjPRwOFwul3EcIYSWZe12O3bvSyRJ+v/E9XoVkPQTnuc9Hg/BUlVVZVneKq3rOgxD9q6sIISe15plGcstvuf0eDwKkGKMh2HgasyEbdvL+FVVsVx5Pz4hhDfHe2mapnmez/XpdNJ1nbfH12CMlw20bXu/37cmBQBQSpf6fD67rrs5JwAQwiiKlrBBEAiQAgAcx+n7fpYSQuI4FuMty3IJSyk1TfPVSY43yjCMoijmer/fr3xcOKRJkvi+z36eldvtNo/fdZ2maeIbrPBrftHf4yMAAP//2bWeBJL2wMgAAAAASUVORK5CYII=\"><figcaption style=\"text-align: center;\">([1])</figcaption></figure></td>\n",
       "</tr></table>\n"
      ]
     },
     "metadata": {},
     "output_type": "display_data"
    }
   ],
   "source": [
    "import (\n",
    "    \"fmt\"\n",
    "    \"strings\"\n",
    "\t\"strconv\"\n",
    "    \"github.com/gomlx/gopjrt/dtypes\"\n",
    "    \"github.com/gomlx/gomlx/backends\"\n",
    "    \"github.com/gomlx/gomlx/examples/mnist\"\n",
    "    \"github.com/gomlx/gomlx/types/shapes\"\n",
    "    \"github.com/gomlx/gomlx/types/tensors/images\"\n",
    "    \"github.com/janpfeifer/gonb/gonbui\"\n",
    "\n",
    "    _ \"github.com/gomlx/gomlx/backends/xla\"\n",
    ")\n",
    "\n",
    "var (\n",
    "    // Model DType, used everywhere.\n",
    "    DType = dtypes.Float32\n",
    ")\n",
    "\n",
    "// sampleToNotebook generates a sample of MNIST in a GoNB Jupyter Notebook.\n",
    "func sampleToNotebook() {\n",
    "    // Load data into tensors.\n",
    "    backend := backends.New()\n",
    "    if ds, err := mnist.NewDataset(backend, \"Samples MNIST\", *flagDataDir, \"train\", DType); err != nil {\n",
    "        fmt.Printf(\"mnist.NewDataset: %v\", err)\n",
    "    } else {\n",
    "        ds.Shuffle()\n",
    "        sampleImages(ds, 10)\n",
    "    }\n",
    "   \n",
    "}\n",
    "\n",
    "// sampleTable generates and outputs one html table of samples, sampling rows x cols from the images/labels provided.\n",
    "func sampleImages(ds train.Dataset, numImages int) {\n",
    "    gonbui.DisplayHTML(fmt.Sprintf(\"<p>%s</p>\\n\", ds.Name()))\n",
    "    \n",
    "    parts := make([]string, 0, numImages+5) // Leave last part empty.\n",
    "    parts = append(parts, \"<table><tr>\")\n",
    "    for ii := 0; ii < numImages; ii++ {\n",
    "        _, inputs, labels := must.M3(ds.Yield())\n",
    "        imgTensor := inputs[0]\n",
    "        img := images.ToImage().Single(imgTensor)\n",
    "        label := labels[0].Value().([]int8)\n",
    "    \n",
    "        imgSrc := must.M1(gonbui.EmbedImageAsPNGSrc(img))\n",
    "        size := imgTensor.Shape().Dimensions[0]\n",
    "        parts = append(\n",
    "            parts, \n",
    "            fmt.Sprintf(`<td><figure style=\"padding:4px;text-align: center;\"><img width=\"%d\" height=\"%d\" src=\"%s\">` + \n",
    "                        `<figcaption style=\"text-align: center;\">(%d)</figcaption></figure></td>`, \n",
    "                        size*2, size*2, imgSrc, label),\n",
    "        )\n",
    "    }\n",
    "    parts = append(parts, \"</tr></table>\", \"\")\n",
    "    gonbui.DisplayHTML(strings.Join(parts, \"\\n\"))\n",
    "}\n",
    "\n",
    "%%\n",
    "AssertDownloaded()\n",
    "sampleToNotebook()"
   ]
  },
  {
   "cell_type": "markdown",
   "metadata": {},
   "source": [
    "## Training on MNIST\n",
    "\n",
    "### Models Support\n",
    "\n",
    "1. `flagModel` defines the model type, out of `validModels` options.\n",
    "1. `createDefaultContext` creates a context and set the default values for the MNIST models. \n",
    "1. `contextFromSettings` uses `createDefaultContext` and incorporate changes passed by the `-set` flag."
   ]
  },
  {
   "cell_type": "code",
   "execution_count": 7,
   "metadata": {},
   "outputs": [
    {
     "name": "stdout",
     "output_type": "stream",
     "text": [
      "Models: [\"linear\" \"cnn\"]\n",
      "Parameters set (-set): [\"batch_size\" \"model\" \"train_steps\"]\n",
      "\t\"/activation\": (string) relu\n",
      "\t\"/adam_dtype\": (string) \n",
      "\t\"/adam_epsilon\": (float64) 1e-07\n",
      "\t\"/batch_size\": (int) 17\n",
      "\t\"/cnn_dropout_rate\": (float64) 0.5\n",
      "\t\"/cnn_normalization\": (string) layer\n",
      "\t\"/cosine_schedule_steps\": (int) 0\n",
      "\t\"/dropout_rate\": (float64) 0.5\n",
      "\t\"/eval_batch_size\": (int) 1000\n",
      "\t\"/l1_regularization\": (float64) 0\n",
      "\t\"/l2_regularization\": (float64) 0\n",
      "\t\"/learning_rate\": (float64) 0.0001\n",
      "\t\"/loss\": (string) sparse_cross_logits\n",
      "\t\"/model\": (string) 'cnn'\n",
      "\t\"/nan_logger\": (bool) false\n",
      "\t\"/num_checkpoints\": (int) 3\n",
      "\t\"/optimizer\": (string) adamw\n",
      "\t\"/plots\": (bool) false\n",
      "\t\"/train_steps\": (int) 10\n",
      "\t\"/triplet_loss_margin\": (float64) 0.5\n",
      "\t\"/triplet_loss_mining_strategy\": (string) Hard\n",
      "\t\"/triplet_loss_pairwise_distance_metric\": (string) L2\n",
      "Parameters set (-set): [\"batch_size\" \"model\" \"train_steps\"]\n",
      "\t\"/activation\": (string) relu\n",
      "\t\"/adam_dtype\": (string) \n",
      "\t\"/adam_epsilon\": (float64) 1e-07\n",
      "\t\"/batch_size\": (int) 17\n",
      "\t\"/cnn_dropout_rate\": (float64) 0.5\n",
      "\t\"/cnn_normalization\": (string) layer\n",
      "\t\"/cosine_schedule_steps\": (int) 0\n",
      "\t\"/dropout_rate\": (float64) 0.5\n",
      "\t\"/eval_batch_size\": (int) 1000\n",
      "\t\"/l1_regularization\": (float64) 0\n",
      "\t\"/l2_regularization\": (float64) 0\n",
      "\t\"/learning_rate\": (float64) 0.0001\n",
      "\t\"/loss\": (string) sparse_cross_logits\n",
      "\t\"/model\": (string) 'cnn'\n",
      "\t\"/nan_logger\": (bool) false\n",
      "\t\"/num_checkpoints\": (int) 3\n",
      "\t\"/optimizer\": (string) adamw\n",
      "\t\"/plots\": (bool) false\n",
      "\t\"/train_steps\": (int) 10\n",
      "\t\"/triplet_loss_margin\": (float64) 0.5\n",
      "\t\"/triplet_loss_mining_strategy\": (string) Hard\n",
      "\t\"/triplet_loss_pairwise_distance_metric\": (string) L2\n"
     ]
    }
   ],
   "source": [
    "import (\n",
    "    \"flags\"\n",
    "    \n",
    "    \"github.com/gomlx/gomlx/ml/layers\"\n",
    "    \"github.com/gomlx/gomlx/ui/commandline\"\n",
    "    \"github.com/gomlx/gomlx/ml/train/optimizers\"\n",
    "    \"github.com/gomlx/gomlx/examples/mnist\"\n",
    "    \"github.com/gomlx/gomlx/ml/context\"\n",
    ")\n",
    "\n",
    "var (\n",
    "\tflagEval      = flag.Bool(\"eval\", true, \"Whether to evaluate the model on the validation data in the end.\")\n",
    ")\n",
    "\n",
    "// settings is bound to a \"-set\" flag to be used to set context hyperparameters.\n",
    "var settings = commandline.CreateContextSettingsFlag(CreateDefaultContext(), \"set\")\n",
    "\n",
    "// createDefaultContext sets the context with default hyperparameters\n",
    "func CreateDefaultContext() *context.Context {\n",
    "\tctx := context.New()\n",
    "\tctx.RngStateReset()\n",
    "\tctx.SetParams(map[string]any{\n",
    "\t\t// Model type to use\n",
    "\t\t\"model\":           \"linear\",\n",
    "\t\t\"loss\":            \"sparse_cross_logits\",\n",
    "\t\t\"num_checkpoints\": 3,\n",
    "\t\t\"train_steps\":     4000,\n",
    "\n",
    "\t\t// batch_size for training.\n",
    "\t\t\"batch_size\": 600,\n",
    "\n",
    "\t\t// eval_batch_size can be larger than training, it's more efficient.\n",
    "\t\t\"eval_batch_size\": 1000,\n",
    "\n",
    "\t\t// Debug parameters.\n",
    "\t\t\"nan_logger\": false, // Trigger nan error as soon as it happens -- expensive, but helps debugging.\n",
    "\n",
    "\t\t// \"plots\" trigger generating intermediary eval data for plotting, and if running in GoNB, to actually\n",
    "\t\t// draw the plot with Plotly.\n",
    "\t\t//\n",
    "\t\t// From the command-line, an easy way to monitor the metrics being generated during the training of a model\n",
    "\t\t// is using the gomlx_checkpoints tool:\n",
    "\t\t//\n",
    "\t\t//\t$ gomlx_checkpoints --metrics --metrics_labels --metrics_types=accuracy  --metrics_names='E(Tra)/#loss,E(Val)/#loss' --loop=3s \"<checkpoint_path>\"\n",
    "\t\tplotly.ParamPlots: false,\n",
    "\n",
    "\t\toptimizers.ParamOptimizer:       \"adamw\",\n",
    "\t\toptimizers.ParamLearningRate:    1e-4,\n",
    "\t\toptimizers.ParamAdamEpsilon:     1e-7,\n",
    "\t\toptimizers.ParamAdamDType:       \"\",\n",
    "\t\tcosineschedule.ParamPeriodSteps: 0,\n",
    "\t\tactivations.ParamActivation:     \"relu\",\n",
    "\t\tlayers.ParamDropoutRate:         0.5,\n",
    "\t\tregularizers.ParamL2:            0.0,\n",
    "\t\tregularizers.ParamL1:            0.0,\n",
    "\n",
    "\t\t// CNN\n",
    "\t\t\"cnn_dropout_rate\":  0.5,\n",
    "\t\t\"cnn_normalization\": \"layer\", // \"layer\" or \"batch\".\n",
    "\n",
    "\t\t// Triplet\n",
    "\t\tlosses.ParamTripletLossPairwiseDistanceMetric: \"L2\",\n",
    "\t\tlosses.ParamTripletLossMiningStrategy:         \"Hard\",\n",
    "\t\tlosses.ParamTripletLossMargin:                 0.5,\n",
    "\t})\n",
    "\treturn ctx\n",
    "}\n",
    "\n",
    "// ContextFromSettings is the default context (createDefaultContext) changed by -set flag.\n",
    "func ContextFromSettings() (ctx *context.Context, paramsSet []string) {\n",
    "    ctx = mnist.CreateDefaultContext()\n",
    "    paramsSet = must.M1(commandline.ParseContextSettings(ctx, *settings))\n",
    "    return\n",
    "}\n",
    "\n",
    "// Let's test that we can set hyperparameters by setting it in the \"-set\" flag:\n",
    "%% -set=\"batch_size=17;model='cnn';train_steps=10\"\n",
    "fmt.Printf(\"Models: %q\\n\", mnist.ModelList)\n",
    "ctx, parametersSet := ContextFromSettings()\n",
    "fmt.Printf(\"Parameters set (-set): %q\\n\", parametersSet)\n",
    "fmt.Println(commandline.SprintContextSettings(ctx))"
   ]
  },
  {
   "cell_type": "markdown",
   "metadata": {},
   "source": [
    "### Linear model\n",
    "\n",
    "A linear model can easily get to ~92% accuracy (a random model would do 10%) with 4000 steps.\n",
    "\n",
    "Later we are going to define a CNN model to compare, and we just set a placeholder model here for now.\n",
    "\n",
    "> **Note**: \n",
    ">\n",
    "> * The code is here just to exemplify. We are actually using the same code from the [`mnist`](https://github.com/gomlx/gomlx/tree/main/examples/mnist) package."
   ]
  },
  {
   "cell_type": "code",
   "execution_count": 8,
   "metadata": {},
   "outputs": [
    {
     "name": "stdout",
     "output_type": "stream",
     "text": [
      "Logits shape for batch_size=10: (Float32)[10 10]\n"
     ]
    }
   ],
   "source": [
    "import (\n",
    "\t. \"github.com/gomlx/gomlx/graph\"\n",
    "\t\"github.com/gomlx/gomlx/ml/context\"\n",
    "\t\"github.com/gomlx/gomlx/ml/layers\"\n",
    ")\n",
    "\n",
    "var _ = NewGraph  // Make sure the graph package is in use.\n",
    "\n",
    "// LinearModelGraph builds a simple  model logistic model\n",
    "// It returns the logit, not the predictions, which works with most losses with shape `[batch_size, NumClasses]`.\n",
    "// inputs: only one tensor, with shape `[batch_size, width, height, depth]`.\n",
    "func LinearModelGraph(ctx *context.Context, spec any, inputs []*Node) []*Node {\n",
    "\tctx = ctx.In(\"model\") // Create the model by default under the \"/model\" scope.\n",
    "\tbatchSize := inputs[0].Shape().Dimensions[0]\n",
    "\tembeddings := Reshape(inputs[0], batchSize, -1)\n",
    "\tlogits := layers.DenseWithBias(ctx, embeddings, mnist.NumClasses)\n",
    "\treturn []*Node{logits}\n",
    "}\n",
    "\n",
    "%% -set=\"batch_size=10\"\n",
    "// Let's test that the logits are coming out with the right shape: we want [batch_size, 10], since there are 10 classes.\n",
    "AssertDownloaded()\n",
    "ctx, _ := ContextFromSettings()\n",
    "g := NewGraph(backends.New(), \"placeholder\")\n",
    "batchSize := context.GetParamOr(ctx, \"batch_size\", int(100))\n",
    "logits := LinearModelGraph(ctx, nil, []*Node{Parameter(g, \"images\", shapes.Make(DType, batchSize, mnist.Height, mnist.Width, mnist.Depth))})\n",
    "fmt.Printf(\"Logits shape for batch_size=%d: %s\\n\", batchSize, logits[0].Shape())"
   ]
  },
  {
   "cell_type": "markdown",
   "metadata": {},
   "source": [
    "### Training Loop\n",
    "\n",
    "With a model function defined, we use the training loop create for the MNIST.\n",
    "\n",
    "The trainer is provided in the [`mnist` package](https://github.com/gomlx/gomlx/tree/main/examples/mnist). It is straight forward (and almost the same for every different project) and does the following for us:\n",
    "\n",
    "- If a checkpoing is given (--checkpoint) and it has previously saved model, it loads hyperparmeters and trained variables.\n",
    "- Create trainer: with selected model function (see [Linear model](#Linear-model) and [Linear model for MNIST](#CNN-model-for-MNIST) sections), optimizer, loss and metrics.\n",
    "- Create a `train.Loop` and attach to it a progressbar, a periodic checkpoint saver and a plotter (`--set=\"plots=true\"`).\n",
    "- Train the selected number of train steps.\n",
    "- Report results.\n",
    "\n",
    "Below we train 4000 steps with the default settings just to check things are working."
   ]
  },
  {
   "cell_type": "code",
   "execution_count": 9,
   "metadata": {},
   "outputs": [
    {
     "name": "stdout",
     "output_type": "stream",
     "text": [
      "Training linear model:\n",
      "\t- checkpoint in /home/rener/work/mnist/linear\n"
     ]
    },
    {
     "data": {
      "text/html": [
       "<div id=\"ba7d09d5\"></div>"
      ]
     },
     "metadata": {},
     "output_type": "display_data"
    },
    {
     "data": {
      "text/html": []
     },
     "metadata": {},
     "output_type": "display_data"
    },
    {
     "name": "stdout",
     "output_type": "stream",
     "text": [
      "\t- restarting from global step 4000\n",
      "\t - target train_steps=4000 already reached. To train further, set a number additional to current global step.\n",
      "\n",
      "Results on train:\n",
      "\tMean Loss+Regularization (#loss+): 0.286\n",
      "\tMean Loss (#loss): 0.286\n",
      "\tMean Accuracy (#acc): 92.06%\n",
      "Results on test:\n",
      "\tMean Loss+Regularization (#loss+): 0.284\n",
      "\tMean Loss (#loss): 0.284\n",
      "\tMean Accuracy (#acc): 92.08%\n",
      "\n"
     ]
    }
   ],
   "source": [
    "var flagCheckpoint = flag.String(\"checkpoint\", \"\", \"Directory save and load checkpoints from. If left empty, no checkpoints are created.\")\n",
    "\n",
    "// trainModel with hyperparameters configured with `-set=...`.\n",
    "func trainModel() {\n",
    "    ctx, paramsSet := ContextFromSettings()\n",
    "    must.M(mnist.TrainModel(ctx, *flagDataDir, *flagCheckpoint, paramsSet))\n",
    "}\n",
    "\n",
    "// Train 50 steps, only to test things are working. No plots.\n",
    "%% --checkpoint=linear  --set=\"model=linear;train_steps=4000;plots=true\"\n",
    "trainModel()"
   ]
  },
  {
   "cell_type": "markdown",
   "metadata": {},
   "source": [
    "### CNN Model for MNIST\n",
    "\n",
    "Let's now properly define a CNN model to compare.\n",
    "\n",
    "The model was built following a [Deep MNIST for Experts](https://chromium.googlesource.com/external/github.com/tensorflow/tensorflow/+/r0.10/tensorflow/g3doc/tutorials/mnist/pros/index.md)"
   ]
  },
  {
   "cell_type": "code",
   "execution_count": 10,
   "metadata": {},
   "outputs": [
    {
     "name": "stdout",
     "output_type": "stream",
     "text": [
      "Logits shape for batch_size=10: (Float32)[10 10]\n"
     ]
    }
   ],
   "source": [
    "// CnnModelGraph builds the CNN model for our demo.\n",
    "// It returns the logit, not the predictions, which works with most losses with shape `[batch_size, NumClasses]`.\n",
    "// inputs: only one tensor, with shape `[batch_size, width, height, depth]`.\n",
    "func CnnModelGraph(ctx *context.Context, spec any, inputs []*Node) []*Node {\n",
    "\tctx = ctx.In(\"model\") // Create the model by default under the \"/model\" scope.\n",
    "\tembeddings := CnnEmbeddings(ctx, inputs[0])\n",
    "\tlogits := layers.Dense(ctx, embeddings, true, mnist.NumClasses)\n",
    "\treturn []*Node{logits}\n",
    "}\n",
    "\n",
    "func CnnEmbeddings(ctx *context.Context, images *Node) *Node {\n",
    "\tbatchSize := images.Shape().Dimensions[0]\n",
    "\tg := images.Graph()\n",
    "\tdtype := images.DType()\n",
    "\n",
    "\tlayerIdx := 0\n",
    "\tnextCtx := func(name string) *context.Context {\n",
    "\t\tnewCtx := ctx.Inf(\"%03d_%s\", layerIdx, name)\n",
    "\t\tlayerIdx++\n",
    "\t\treturn newCtx\n",
    "\t}\n",
    "\t// Dropout.\n",
    "\tdropoutRate := context.GetParamOr(ctx, \"cnn_dropout_rate\", -1.0)\n",
    "\tif dropoutRate < 0 {\n",
    "\t\tdropoutRate = context.GetParamOr(ctx, layers.ParamDropoutRate, 0.0)\n",
    "\t}\n",
    "\tvar dropoutNode *Node\n",
    "\tif dropoutRate > 0.0 {\n",
    "\t\tdropoutNode = Scalar(g, dtype, dropoutRate)\n",
    "\t}\n",
    "\n",
    "\timages = layers.Convolution(nextCtx(\"conv\"), images).Filters(32).KernelSize(3).PadSame().Done()\n",
    "\timages.AssertDims(batchSize, 28, 28, 32)\n",
    "\timages = activations.Relu(images)\n",
    "\timages = normalizeCNN(nextCtx(\"norm\"), images)\n",
    "\timages = MaxPool(images).Window(2).Done()\n",
    "\timages.AssertDims(batchSize, 14, 14, 32)\n",
    "\n",
    "\timages = layers.Convolution(nextCtx(\"conv\"), images).Filters(64).KernelSize(3).PadSame().Done()\n",
    "\timages.AssertDims(batchSize, 14, 14, 64)\n",
    "\timages = activations.Relu(images)\n",
    "\timages = normalizeCNN(nextCtx(\"norm\"), images)\n",
    "\timages = MaxPool(images).Window(2).Done()\n",
    "\timages = layers.DropoutNormalize(nextCtx(\"dropout\"), images, dropoutNode, true)\n",
    "\timages.AssertDims(batchSize, 7, 7, 64)\n",
    "\n",
    "\t// Flatten images\n",
    "\timages = Reshape(images, batchSize, -1)\n",
    "\treturn images\n",
    "}\n",
    "\n",
    "func normalizeCNN(ctx *context.Context, logits *Node) *Node {\n",
    "\tnormalizationType := context.GetParamOr(ctx, \"cnn_normalization\", \"none\")\n",
    "\tswitch normalizationType {\n",
    "\tcase \"layer\":\n",
    "\t\tif logits.Rank() == 2 {\n",
    "\t\t\treturn layers.LayerNormalization(ctx, logits, -1).Done()\n",
    "\t\t} else if logits.Rank() == 4 {\n",
    "\t\t\treturn layers.LayerNormalization(ctx, logits, 2, 3).Done()\n",
    "\t\t} else {\n",
    "\t\t\treturn logits\n",
    "\t\t}\n",
    "\tcase \"batch\":\n",
    "\t\treturn batchnorm.New(ctx, logits, -1).Done()\n",
    "\tcase \"none\", \"\":\n",
    "\t\treturn logits\n",
    "\tdefault:\n",
    "\t\texceptions.Panicf(\"invalid normalization type %q -- set it with parameter %q\", normalizationType, \"cnn_normalization\")\n",
    "\t\treturn nil\n",
    "\t}\n",
    "}\n",
    "%% -set=\"batch_size=10\"\n",
    "// Let's test that the logits are coming out with the right shape: we want [batch_size, 10], since there are 10 classes.\n",
    "AssertDownloaded()\n",
    "ctx, _ := ContextFromSettings()\n",
    "g := NewGraph(backends.New(), \"placeholder\")\n",
    "batchSize := context.GetParamOr(ctx, \"batch_size\", int(100))\n",
    "logits := CnnModelGraph(ctx, nil, []*Node{Parameter(g, \"images\", shapes.Make(DType, batchSize, mnist.Height, mnist.Width, mnist.Depth))})\n",
    "fmt.Printf(\"Logits shape for batch_size=%d: %s\\n\", batchSize, logits[0].Shape())"
   ]
  },
  {
   "cell_type": "markdown",
   "metadata": {},
   "source": [
    "### CNN Model Training\n",
    "\n",
    "Let's train the CNN for real this time. "
   ]
  },
  {
   "cell_type": "code",
   "execution_count": null,
   "metadata": {},
   "outputs": [],
   "source": [
    "// Remove a previously trained model\n",
    "!rm -rf ~/work/mnist/cnn  "
   ]
  },
  {
   "cell_type": "code",
   "execution_count": 11,
   "metadata": {},
   "outputs": [
    {
     "name": "stdout",
     "output_type": "stream",
     "text": [
      "Training cnn model:\n",
      "\t- checkpoint in /home/rener/work/mnist/cnn\n"
     ]
    },
    {
     "data": {
      "text/html": [
       "<div id=\"8a0ea2d0\"></div>"
      ]
     },
     "metadata": {},
     "output_type": "display_data"
    },
    {
     "data": {
      "text/html": []
     },
     "metadata": {},
     "output_type": "display_data"
    },
    {
     "name": "stdout",
     "output_type": "stream",
     "text": [
      "\t- restarting from global step 4000\n",
      "\t - target train_steps=4000 already reached. To train further, set a number additional to current global step.\n",
      "\n",
      "Results on train:\n",
      "\tMean Loss+Regularization (#loss+): 0.014\n",
      "\tMean Loss (#loss): 0.014\n",
      "\tMean Accuracy (#acc): 99.57%\n",
      "Results on test:\n",
      "\tMean Loss+Regularization (#loss+): 0.030\n",
      "\tMean Loss (#loss): 0.030\n",
      "\tMean Accuracy (#acc): 98.95%\n",
      "\n"
     ]
    }
   ],
   "source": [
    "%% --checkpoint=cnn --set=\"model=cnn;train_steps=4000;plots=true\"\n",
    "trainModel()"
   ]
  },
  {
   "cell_type": "markdown",
   "metadata": {},
   "source": [
    "### CNN Model Training with Triplet Loss\n",
    "\n",
    "Let's train the CNN using triplet loss"
   ]
  },
  {
   "cell_type": "code",
   "execution_count": 13,
   "metadata": {},
   "outputs": [
    {
     "name": "stdout",
     "output_type": "stream",
     "text": [
      "Training cnn model:\n",
      "\t- checkpoint in /home/rener/work/mnist/cnn_triplet\n"
     ]
    },
    {
     "data": {
      "text/html": []
     },
     "metadata": {},
     "output_type": "display_data"
    },
    {
     "name": "stdout",
     "output_type": "stream",
     "text": [
      "Training (4000 steps):    0% [........................................] (15 steps/s) [2s:4m28s] [step=35] [loss+=0.693] [~loss+=0.691] [~loss=0.691] [~acc=10.53%]        "
     ]
    },
    {
     "data": {
      "text/html": []
     },
     "metadata": {},
     "output_type": "display_data"
    },
    {
     "name": "stdout",
     "output_type": "stream",
     "text": [
      "Training (4000 steps):  100% [========================================] (68 steps/s) [step=3999] [loss+=0.693] [~loss+=0.693] [~loss=0.693] [~acc=9.94%]        ]           \n",
      "\n",
      "\t- saving checkpoint@4000\n"
     ]
    },
    {
     "data": {
      "text/html": [
       "<p><b>Metric: accuracy</b></p>\n"
      ]
     },
     "metadata": {},
     "output_type": "display_data"
    },
    {
     "data": {
      "text/html": [
       "<div id=\"db7aa4c3\"></div>"
      ]
     },
     "metadata": {},
     "output_type": "display_data"
    },
    {
     "data": {
      "text/html": [
       "<script charset=\"UTF-8\">\n",
       "(() => {\n",
       "\tconst src=\"https://cdn.plot.ly/plotly-2.29.1.min.js\";\n",
       "\tvar runJSFn = function(module) {\n",
       "\t\t\n",
       "\tif (!module) {\n",
       "\t\tmodule = window.Plotly;\n",
       "\t}\n",
       "\tlet data = JSON.parse('{\"data\":[{\"type\":\"scatter\",\"line\":{\"shape\":\"linear\"},\"mode\":\"lines+markers\",\"name\":\"Train: Moving Average Accuracy\",\"x\":[10,22,36,53,73,97,126,161,203,253,313,385,471,574,698,847,1026,1241,1499,1809,2181,2627,3162,3804,4000],\"y\":[0.11469696462154388,0.10847826302051544,0.10563061386346817,0.10475307703018188,0.10443693399429321,0.10340135544538498,0.10343700647354126,0.1028648093342781,0.10312065482139587,0.10232416540384293,0.10078612715005875,0.10089590400457382,0.09990784525871277,0.09984463453292847,0.0992366224527359,0.09926585108041763,0.09963823109865189,0.09958305954933167,0.09914891421794891,0.09947963804006577,0.09883596003055573,0.0993533805012703,0.09897211194038391,0.09940245747566223,0.09936889261007309]},{\"type\":\"scatter\",\"line\":{\"shape\":\"linear\"},\"mode\":\"lines+markers\",\"name\":\"Eval on train: Mean Accuracy\",\"x\":[10,22,36,53,73,97,126,161,203,253,313,385,471,574,698,847,1026,1241,1499,1809,2181,2627,3162,3804,4000],\"y\":[0.10036666691303253,0.0989999994635582,0.09885000437498093,0.09756666421890259,0.09768333286046982,0.10365000367164612,0.10154999792575836,0.09915000200271606,0.09915000200271606,0.09915000200271606,0.09915000200271606,0.09915000200271606,0.09915000200271606,0.09915000200271606,0.09915000200271606,0.09915000200271606,0.09915000200271606,0.09915000200271606,0.09915000200271606,0.09915000200271606,0.09915000200271606,0.09915000200271606,0.09915000200271606,0.09915000200271606,0.09915000200271606]},{\"type\":\"scatter\",\"line\":{\"shape\":\"linear\"},\"mode\":\"lines+markers\",\"name\":\"Eval on test: Mean Accuracy\",\"x\":[10,22,36,53,73,97,126,161,203,253,313,385,471,574,698,847,1026,1241,1499,1809,2181,2627,3162,3804,4000],\"y\":[0.10400000214576721,0.10280000418424606,0.10280000418424606,0.10280000418424606,0.10410000383853912,0.11940000206232071,0.10540000349283218,0.10090000182390213,0.10090000182390213,0.10090000182390213,0.10090000182390213,0.10090000182390213,0.10090000182390213,0.10090000182390213,0.10090000182390213,0.10090000182390213,0.10090000182390213,0.10090000182390213,0.10090000182390213,0.10090000182390213,0.10090000182390213,0.10090000182390213,0.10090000182390213,0.10090000182390213,0.10090000182390213]}],\"layout\":{\"legend\":{},\"title\":{\"text\":\"accuracy\"},\"xaxis\":{\"showgrid\":true,\"type\":\"log\"},\"yaxis\":{\"showgrid\":true,\"type\":\"log\"}}}');\n",
       "\tmodule.newPlot('db7aa4c3', data);\n",
       "\n",
       "\t}\n",
       "\t\n",
       "    if (typeof requirejs === \"function\") {\n",
       "        // Use RequireJS to load module.\n",
       "\t\tlet srcWithoutExtension = src.substring(0, src.lastIndexOf(\".js\"));\n",
       "        requirejs.config({\n",
       "            paths: {\n",
       "                'plotly': srcWithoutExtension\n",
       "            }\n",
       "        });\n",
       "        require(['plotly'], function(plotly) {\n",
       "            runJSFn(plotly)\n",
       "        });\n",
       "        return\n",
       "    }\n",
       "\n",
       "\tvar currentScripts = document.head.getElementsByTagName(\"script\");\n",
       "\tfor (const idx in currentScripts) {\n",
       "\t\tlet script = currentScripts[idx];\n",
       "\t\tif (script.src == src) {\n",
       "\t\t\trunJSFn(null);\n",
       "\t\t\treturn;\n",
       "\t\t}\n",
       "\t}\n",
       "\n",
       "\tvar script = document.createElement(\"script\");\n",
       "\n",
       "\tscript.charset = \"utf-8\";\n",
       "\t\n",
       "\tscript.src = src;\n",
       "\tscript.onload = script.onreadystatechange = function () { runJSFn(null); };\n",
       "\tdocument.head.appendChild(script);\t\n",
       "})();\n",
       "</script>"
      ]
     },
     "metadata": {},
     "output_type": "display_data"
    },
    {
     "data": {
      "text/html": [
       "<p><b>Metric: loss</b></p>\n"
      ]
     },
     "metadata": {},
     "output_type": "display_data"
    },
    {
     "data": {
      "text/html": [
       "<div id=\"aa7d052b\"></div>"
      ]
     },
     "metadata": {},
     "output_type": "display_data"
    },
    {
     "data": {
      "text/html": [
       "<script charset=\"UTF-8\">\n",
       "(() => {\n",
       "\tconst src=\"https://cdn.plot.ly/plotly-2.29.1.min.js\";\n",
       "\tvar runJSFn = function(module) {\n",
       "\t\t\n",
       "\tif (!module) {\n",
       "\t\tmodule = window.Plotly;\n",
       "\t}\n",
       "\tlet data = JSON.parse('{\"data\":[{\"type\":\"scatter\",\"line\":{\"shape\":\"linear\"},\"mode\":\"lines+markers\",\"name\":\"Train: Batch Loss+Regularization\",\"x\":[10,22,36,53,73,97,126,161,203,253,313,385,471,574,698,847,1026,1241,1499,1809,2181,2627,3162,3804,4000],\"y\":[0.6922862529754639,0.6915590167045593,0.6923121213912964,0.6927012205123901,0.692726194858551,0.6925599575042725,0.6929908990859985,0.6929304599761963,0.6929420828819275,0.6930558681488037,0.6930977702140808,0.6930198073387146,0.6930627226829529,0.6930902004241943,0.6930928230285645,0.6931095123291016,0.6930994391441345,0.6931208968162537,0.693135142326355,0.6931354403495789,0.6931335926055908,0.6931400299072266,0.6931391954421997,0.6931430697441101,0.6931436657905579]},{\"type\":\"scatter\",\"line\":{\"shape\":\"linear\"},\"mode\":\"lines+markers\",\"name\":\"Train: Moving Average Loss+Regularization\",\"x\":[10,22,36,53,73,97,126,161,203,253,313,385,471,574,698,847,1026,1241,1499,1809,2181,2627,3162,3804,4000],\"y\":[0.6894192695617676,0.6905747056007385,0.6912234425544739,0.6916534900665283,0.691942572593689,0.6921587586402893,0.6923397183418274,0.6925128698348999,0.6926750540733337,0.6928063035011292,0.6929129362106323,0.6929884552955627,0.6930389404296875,0.6930704116821289,0.6930906772613525,0.6931029558181763,0.6931124925613403,0.6931189894676208,0.6931248307228088,0.6931288838386536,0.6931341886520386,0.6931355595588684,0.6931400895118713,0.6931403279304504,0.6931405067443848]},{\"type\":\"scatter\",\"line\":{\"shape\":\"linear\"},\"mode\":\"lines+markers\",\"name\":\"Train: Moving Average Loss\",\"x\":[10,22,36,53,73,97,126,161,203,253,313,385,471,574,698,847,1026,1241,1499,1809,2181,2627,3162,3804,4000],\"y\":[0.689419150352478,0.6905747056007385,0.6912233829498291,0.6916534304618835,0.6919425129890442,0.6921586990356445,0.6923396587371826,0.6925127506256104,0.692674994468689,0.6928063035011292,0.6929129362106323,0.6929884552955627,0.6930389404296875,0.6930704116821289,0.6930906772613525,0.6931029558181763,0.6931125521659851,0.6931189894676208,0.6931248307228088,0.6931288838386536,0.6931341886520386,0.6931355595588684,0.6931400895118713,0.6931403279304504,0.69314044713974]},{\"type\":\"scatter\",\"line\":{\"shape\":\"linear\"},\"mode\":\"lines+markers\",\"name\":\"Eval on train: Mean Loss+Regularization\",\"x\":[10,22,36,53,73,97,126,161,203,253,313,385,471,574,698,847,1026,1241,1499,1809,2181,2627,3162,3804,4000],\"y\":[0.6930273771286011,0.693087100982666,0.69310462474823,0.6931176781654358,0.6931240558624268,0.6931293606758118,0.6931337714195251,0.6931371092796326,0.6931401491165161,0.6931418180465698,0.6931432485580444,0.6931441426277161,0.6931449770927429,0.6931455731391907,0.6931458115577698,0.6931463479995728,0.6931466460227966,0.6931468844413757,0.6931470036506653,0.6931470632553101,0.6931471228599548,0.6931471824645996,0.6931471824645996,0.6931471824645996,0.6931471824645996]},{\"type\":\"scatter\",\"line\":{\"shape\":\"linear\"},\"mode\":\"lines+markers\",\"name\":\"Eval on train: Mean Loss\",\"x\":[10,22,36,53,73,97,126,161,203,253,313,385,471,574,698,847,1026,1241,1499,1809,2181,2627,3162,3804,4000],\"y\":[0.6930273771286011,0.693087100982666,0.69310462474823,0.6931176781654358,0.6931240558624268,0.6931293606758118,0.6931337714195251,0.6931371092796326,0.6931401491165161,0.6931418180465698,0.6931432485580444,0.6931441426277161,0.6931449770927429,0.6931455731391907,0.6931458115577698,0.6931463479995728,0.6931466460227966,0.6931468844413757,0.6931470036506653,0.6931470632553101,0.6931471228599548,0.6931471824645996,0.6931471824645996,0.6931471824645996,0.6931471824645996]},{\"type\":\"scatter\",\"line\":{\"shape\":\"linear\"},\"mode\":\"lines+markers\",\"name\":\"Eval on test: Mean Loss+Regularization\",\"x\":[10,22,36,53,73,97,126,161,203,253,313,385,471,574,698,847,1026,1241,1499,1809,2181,2627,3162,3804,4000],\"y\":[0.6929507851600647,0.6930521130561829,0.6930931806564331,0.6931136846542358,0.6931242942810059,0.6931294798851013,0.6931341886520386,0.693138062953949,0.6931403875350952,0.6931425333023071,0.6931436657905579,0.6931444406509399,0.6931450366973877,0.6931455135345459,0.6931460499763489,0.6931464076042175,0.6931465864181519,0.693146824836731,0.6931468844413757,0.6931470036506653,0.6931470632553101,0.6931470632553101,0.6931470632553101,0.6931470632553101,0.6931470632553101]},{\"type\":\"scatter\",\"line\":{\"shape\":\"linear\"},\"mode\":\"lines+markers\",\"name\":\"Eval on test: Mean Loss\",\"x\":[10,22,36,53,73,97,126,161,203,253,313,385,471,574,698,847,1026,1241,1499,1809,2181,2627,3162,3804,4000],\"y\":[0.6929507851600647,0.6930521130561829,0.6930931806564331,0.6931136846542358,0.6931242942810059,0.6931294798851013,0.6931341886520386,0.693138062953949,0.6931403875350952,0.6931425333023071,0.6931436657905579,0.6931444406509399,0.6931450366973877,0.6931455135345459,0.6931460499763489,0.6931464076042175,0.6931465864181519,0.693146824836731,0.6931468844413757,0.6931470036506653,0.6931470632553101,0.6931470632553101,0.6931470632553101,0.6931470632553101,0.6931470632553101]}],\"layout\":{\"legend\":{},\"title\":{\"text\":\"loss\"},\"xaxis\":{\"showgrid\":true,\"type\":\"log\"},\"yaxis\":{\"showgrid\":true,\"type\":\"log\"}}}');\n",
       "\tmodule.newPlot('aa7d052b', data);\n",
       "\n",
       "\t}\n",
       "\t\n",
       "    if (typeof requirejs === \"function\") {\n",
       "        // Use RequireJS to load module.\n",
       "\t\tlet srcWithoutExtension = src.substring(0, src.lastIndexOf(\".js\"));\n",
       "        requirejs.config({\n",
       "            paths: {\n",
       "                'plotly': srcWithoutExtension\n",
       "            }\n",
       "        });\n",
       "        require(['plotly'], function(plotly) {\n",
       "            runJSFn(plotly)\n",
       "        });\n",
       "        return\n",
       "    }\n",
       "\n",
       "\tvar currentScripts = document.head.getElementsByTagName(\"script\");\n",
       "\tfor (const idx in currentScripts) {\n",
       "\t\tlet script = currentScripts[idx];\n",
       "\t\tif (script.src == src) {\n",
       "\t\t\trunJSFn(null);\n",
       "\t\t\treturn;\n",
       "\t\t}\n",
       "\t}\n",
       "\n",
       "\tvar script = document.createElement(\"script\");\n",
       "\n",
       "\tscript.charset = \"utf-8\";\n",
       "\t\n",
       "\tscript.src = src;\n",
       "\tscript.onload = script.onreadystatechange = function () { runJSFn(null); };\n",
       "\tdocument.head.appendChild(script);\t\n",
       "})();\n",
       "</script>"
      ]
     },
     "metadata": {},
     "output_type": "display_data"
    },
    {
     "name": "stdout",
     "output_type": "stream",
     "text": [
      "\t- trained to step 4000, median train step: 10624 microseconds\n",
      "\n",
      "Results on train:\n",
      "\tMean Loss+Regularization (#loss+): 0.693\n",
      "\tMean Loss (#loss): 0.693\n",
      "\tMean Accuracy (#acc): 9.92%\n",
      "Results on test:\n",
      "\tMean Loss+Regularization (#loss+): 0.693\n",
      "\tMean Loss (#loss): 0.693\n",
      "\tMean Accuracy (#acc): 10.09%\n",
      "\n"
     ]
    }
   ],
   "source": [
    "%% --checkpoint=cnn_triplet --set=\"model=cnn;loss=triplet;triplet_loss_mining_strategy=semi_hard;triplet_loss_pairwise_distance_metric=cosine;triplet_loss_margin=-1.0;train_steps=4000;plots=true\"\n",
    "trainModel()"
   ]
  },
  {
   "cell_type": "markdown",
   "metadata": {},
   "source": [
    "## Inference\n",
    "\n",
    "Inference, or serving the model, is done by using the same code as used to train the model.\n",
    "That is, currently the way to save the model is to export the Go model creation function, along with the checkpoint with learned weights.\n",
    "\n",
    "We created a small library `mnist/classifier` that takes an image as input, convert it to a tensor and calls the trained model"
   ]
  },
  {
   "cell_type": "code",
   "execution_count": null,
   "metadata": {},
   "outputs": [],
   "source": [
    "import (\n",
    "    \"encoding/base64\"\n",
    "    \"image/png\"\n",
    "    \n",
    "    \"github.com/gomlx/gomlx/examples/mnist/classifier\"\n",
    "    // We also must import then engine that will execute the model.\n",
    "    // Currently only XLA is supported.\n",
    "    _ \"github.com/gomlx/gomlx/backends/xla\"\n",
    ")\n",
    "\n",
    "%%\n",
    "// Decode and print PNG image.\n",
    "imgBase64 := bytes.NewBufferString(\"iVBORw0KGgoAAAANSUhEUgAAABwAAAAcCAIAAAD9b0jDAAAACXBIWXMAAAsTAAALEwEAmpwYAAAC+0lEQVRIia2VO0szQRSGz+6O5uKCkChWIgYEQUUjCYKlhZZWBiwsbFKIf0FSKKI2/gQhIGrAC4JBUgQEi+C1UAzYC24Es0ajk53ZGYvBEPf2+aGn2j0z85x9z2VW0nXdNE2EEOccfmeSJFFKm5ub0evrq6qqfwjFGEuVSkVVVUmSfkkUxjmvVCoyY4xS+idEAKCUcs5lWZb/ilg3VKvVAoHAP/fpur69vQ0AIlGcc4TQ9PR0S0uLA9Q0TQ+Wpmm5XI5SenBwcHh4aFm9vr5eW1tz4L68vBiGwZ0sm82OjY05BqsnLZVKNR4xDKNcLsuMMbfPLBQK+XxePA8ODo6Ojo6MjAwPD/v9flENAMhkMg7yPZopmUxijD8+Pjo6OqampgKBAGOMMZbP5+fn5zHGiqKMj487nHx6enKT72alUsnv9wNAKBTK5XLO8v+rqwzDWFpawhgDQCwWi0ajDvJ9Ph9jTFGUn+DS6fTR0dHJyYnw9Pf3t7W1OUC9R75UKl1cXMiyXKvV0un03t6e8Le2tiYSiUQi4XzMraVM01xfXx8aGoKvhm+0lZUVx3SLnCKMcTAYtAdjjC0uLj4/PwOAXc3j46OHPknTtFAohBCyQ3d2dnZ3d3t6etrb2ymlwWBQ1/X9/f2rq6ve3t7z83NVVS2nCCHVahV0XfdoKYyxxSPGIRqNvr29ucn3migA8Pl8Fk9nZ6fQ4TE1zlefiGn3X15ezszMAIA9Xd+ghBBLzM3NzXg8XiwWLVtvb28nJycLhQIAmKbZ1NTkBrUGXF1dXVhYIIQcHx9TSt/f3xFClNJsNru1tfXw8AAA8Xg8lUp5QK19OjExIfxdXV19fX2RSCQSiYg8AoCiKLOzs/f3926FFYWyVv/u7m5ubs4eOxwOJ5PJ09NTN9w3qH2iCCEbGxviHxOLxZaXl8/OzorFYrVa9SbWoZKmaeFw2H6h3NzclMvl7u7uuvafmGh+5NYcAwMDP2dZTJZlmRBSf2eM8a9J55w3vgqP22rj0ieuZu0WF49iIgAAAABJRU5ErkJggg==\")\n",
    "imgPNG := must.M1(io.ReadAll(base64.NewDecoder(base64.StdEncoding, imgBase64)))\n",
    "img := must.M1(png.Decode(bytes.NewBuffer(imgPNG)))\n",
    "size := img.Bounds()\n",
    "gonbui.DisplayHTML(fmt.Sprintf(\"<p>Image: (%d x %d)</p>\", size.Dx(), size.Dy()))\n",
    "gonbui.DisplayPNG(imgPNG)\n",
    "\n",
    "// Classify:\n",
    "inference := must.M1(classifier.New(\"~/work/mnist/cnn\"))\n",
    "classID := must.M1(inference.Classify(img))\n",
    "gonbui.DisplayHTML(fmt.Sprintf(\"<p>Class: <b>(%d)</b></p>\", classID))"
   ]
  }
 ],
 "metadata": {
  "kernelspec": {
   "display_name": "Go (gonb)",
   "language": "go",
   "name": "gonb"
  },
  "language_info": {
   "codemirror_mode": "",
   "file_extension": ".go",
   "mimetype": "text/x-go",
   "name": "go",
   "nbconvert_exporter": "",
   "pygments_lexer": "",
   "version": "go1.24.0"
  }
 },
 "nbformat": 4,
 "nbformat_minor": 2
}
