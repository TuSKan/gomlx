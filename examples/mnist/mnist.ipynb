{
 "cells": [
  {
   "cell_type": "markdown",
   "metadata": {},
   "source": [
    "# MNIST\n",
    "\n",
    "MNIST is a simple computer vision dataset that consists of images of handwritten digits.\n",
    "\n",
    "Some examples:\n",
    "\n",
    "![MNIST digits sample](https://github.com/user-attachments/assets/996c11e0-47f9-4b21-8e23-3867b8942e64)\n",
    "\n",
    "It also includes labels for each image, which we use to train our example models.\n",
    "\n",
    "## The `mnist` library\n",
    "\n",
    "This package includes the following functionality:\n",
    "\n",
    "  - Download the dataset from [storage.googleapis.com/cvdf-datasets/mnist](https://storage.googleapis.com/cvdf-datasets/mnist),\n",
    "  - Create a `Dataset` object to iterate over it, use for training and evaluation.\n",
    "  - A linear and a CNN model demo.\n",
    "  - A command-line demo (in the `demo` sub-directory).\n",
    "\n",
    "This notebook serves as documentation and example for the [github.com/gomlx/gomlx/examples/mnist](https://github.com/gomlx/gomlx/examples/mnist) library, and the demo code in one piece can be seen in [.../examples/mnist/demo/](https://github.com/gomlx/gomlx/tree/main/examples/mnist/demo)"
   ]
  },
  {
   "cell_type": "markdown",
   "metadata": {},
   "source": [
    "## Environment Set Up\n",
    "\n",
    "Let's set up `go.mod` to use the local copy of GoMLX, so it can be developed jointly the dataset code with the model. That's often how data pre-processing and model code is developed together with experimentation.\n",
    "\n",
    "If you are not changing code, feel free to simply skip this cell. Or if you used a different directory for you projects, change it below.\n",
    "\n",
    "Notice the directory `${HOME}/Projects/gomlx` is where the GoMLX code is copied by default in [its Docker](https://hub.docker.com/repository/docker/janpfeifer/gomlx_jupyterlab/general)."
   ]
  },
  {
   "cell_type": "code",
   "execution_count": 2,
   "metadata": {},
   "outputs": [
    {
     "name": "stdout",
     "output_type": "stream",
     "text": [
      "\t- Added replace rule for module \"github.com/gomlx/gomlx\" to local directory \"/home/rener/dev/gomlx\".\n"
     ]
    }
   ],
   "source": [
    "!*rm -f go.work && go work init && go work use . \"${HOME}/dev/gomlx\"\n",
    "%goworkfix"
   ]
  },
  {
   "cell_type": "markdown",
   "metadata": {},
   "source": [
    "## Data Preparation\n",
    "\n",
    "### Downloading data files\n",
    "\n",
    "To download to the local directory, simply do the following. Notice if it's already downloaded in the given `--data` directory, it returns immediately."
   ]
  },
  {
   "cell_type": "code",
   "execution_count": 3,
   "metadata": {},
   "outputs": [],
   "source": [
    "import (\n",
    "    \"github.com/gomlx/gomlx/examples/mnist\"\n",
    "    \"github.com/gomlx/gomlx/ml/data\"\n",
    "    \"github.com/janpfeifer/must\"\n",
    ")\n",
    "\n",
    "var flagDataDir = flag.String(\"data\", \"~/work/mnist\", \"Directory to cache downloaded and generated dataset files.\")\n",
    "\n",
    "func AssertDownloaded() {\n",
    "    *flagDataDir = data.ReplaceTildeInDir(*flagDataDir)\n",
    "    if !data.FileExists(*flagDataDir) {\n",
    "        must.M(os.MkdirAll(*flagDataDir, 0777))\n",
    "    }\n",
    "\n",
    "   must.M(mnist.Download(*flagDataDir))\n",
    "}\n",
    "\n",
    "%%\n",
    "AssertDownloaded()"
   ]
  },
  {
   "cell_type": "code",
   "execution_count": 4,
   "metadata": {},
   "outputs": [
    {
     "name": "stdout",
     "output_type": "stream",
     "text": [
      "total 12M\n",
      "drwxr-x--- 2 rener rener 4.0K Mar  9 22:49 cnn\n",
      "drwxr-x--- 2 rener rener 4.0K Feb 17 21:50 cnn_triplet\n",
      "drwxr-x--- 2 rener rener 4.0K Feb 16 21:37 linear\n",
      "-rw-r--r-- 1 rener rener 1.6M Feb 13 23:43 t10k-images-idx3-ubyte.gz\n",
      "-rw-r--r-- 1 rener rener 4.5K Feb 13 23:43 t10k-labels-idx1-ubyte.gz\n",
      "-rw-r--r-- 1 rener rener 9.5M Feb 13 23:43 train-images-idx3-ubyte.gz\n",
      "-rw-r--r-- 1 rener rener  29K Feb 13 23:43 train-labels-idx1-ubyte.gz\n"
     ]
    }
   ],
   "source": [
    "!ls -lh ~/work/mnist/"
   ]
  },
  {
   "cell_type": "markdown",
   "metadata": {},
   "source": [
    "### Sample some images\n",
    "The `mnist.NewDataset` creates a `data.InMemoryDataset` that can be used both for training, evaluation, or just to sample a few examples, which we do below:"
   ]
  },
  {
   "cell_type": "code",
   "execution_count": 5,
   "metadata": {},
   "outputs": [
    {
     "data": {
      "text/html": [
       "<p>Samples MNIST</p>\n"
      ]
     },
     "metadata": {},
     "output_type": "display_data"
    },
    {
     "data": {
      "text/html": [
       "<table><tr>\n",
       "<td><figure style=\"padding:4px;text-align: center;\"><img width=\"56\" height=\"56\" src=\"data:image/png;base64,iVBORw0KGgoAAAANSUhEUgAAABwAAAAcCAIAAAD9b0jDAAAB6UlEQVR4nOyVsYviQBSHwxGyC2EhTYolIIogBCGgEEUsBLEwf4BYWNkrYiP29haCWGihhY3YKlpoYbRIKgMWIQpaxEYQVFCTYsaDC4SF1btzluM4uK9Kfo/3zYPhMd+wP8B/6d+TMgxTKpX6/f58PpdlGUKYSCTQj2VZdjAYnE4nCCH4QK/XQzQKgjAejy2LJb1er8vl8nA41Ot1RKmqqgCA8/ksy3IymQwEAhzH4TjudrsRjTzPG4YxmUxYlkVUfGY0Gmma9vb2Zv3SNB0KhXie/5JUluVKpYJhGI7jxWJRURTTNA3D2G63+XweUVooFFqtViQSWa1W9kXZhMNhFKkgCLbicrnUarXAD9rtNgBgsVi8vr6iS8vlMsdxdk4QhCRJEEK/348yrCiKqVTqcx6NRm+3WzabRZG+vLw8KkEIM5nM3dIvdt80zUel9XrtdDpRpD/B5XJtNhvk9vtACL1e7xMNHo9HFEWGYe5WCYLodDq73c5ett+i2WwCAFRV9fl8dkhRVDAYjMViw+EQAJBOpx+143dTTdOseafTqa7rVkiS5Pv7u/U9m8263e4TY2IY5nA4FEU5Ho8f99Ja0/1+32g0KIp6zmhD03Q8Hq9Wq5IkAQB0Xc/lciRJIuq+yL/zRH8PAAD//xUKDa0/IbE/AAAAAElFTkSuQmCC\"><figcaption style=\"text-align: center;\">([5])</figcaption></figure></td>\n",
       "<td><figure style=\"padding:4px;text-align: center;\"><img width=\"56\" height=\"56\" src=\"data:image/png;base64,iVBORw0KGgoAAAANSUhEUgAAABwAAAAcCAIAAAD9b0jDAAAAoklEQVR4nOyT0Q3DIAxEoZ2ETW4zvNmxCaPQj0roFLUpUKN+NO8T4hdf7NzCBi7pP0vvIw8BqLXGGEsp/dDMAOScU0p6PgSA9onpLCQ9pSM9ttYAjBrNTCvN7OUVycXIatTbCWMI4SSdvm8ieJeSPJTpV54zvkONc8FP2Gh0C74+nN8YD9u6iP45/kafcetK+vS4ZSV7m27GJ/7G73kEAAD//xiGXdpkLwRGAAAAAElFTkSuQmCC\"><figcaption style=\"text-align: center;\">([7])</figcaption></figure></td>\n",
       "<td><figure style=\"padding:4px;text-align: center;\"><img width=\"56\" height=\"56\" src=\"data:image/png;base64,iVBORw0KGgoAAAANSUhEUgAAABwAAAAcCAIAAAD9b0jDAAAB1ElEQVR4nNyVMQ/hUADHXy8SEYmByVCV6MRqESbCJgZiNVQkLB0tErE0fIEuRj6ACEaziHhIDBIkEkHUoDEpTS93zb24qhJ6ucRvEu/f3/v39b32B/gHfJ9UkiTxN51OJ5vNEgShw+SiKF5vWCwWpVIpEAhYLJb3pSzLHo/H6x3VavU+jL3udTqd6XQaAECSZCKRkP/c7XbRaBRC+H5fGZPJxDDMbDaTy3Ic96kRkc/nBUGQvYqh97fUeDy+XC4fd7vBbDY3Gg30uPSR+nw+ZFytVvpIm80mMno8Hh2M5XJZ/MNoNLoPGFQvs1qtbrc7FouFw+HNZsMwDIZhkiQBACKRCE3T8u/9fj8cDp+3wDAsmUx2u13FyVEcU5lgMKgq+aspjuMURRUKhRfXwWazPUkQBDEYDFCL0+lEURSO471e71FTnue9Xq+WdDKZoDSEMJVKORyOeDzOcRySCoKwXC632y1K1ut1Lalql9s1nc/nNE0DAFwu13Q6RdNrSeXbfEStViNJEoWLxeJLUrvd3m63D4cDEq3Xawhhq9Xy+/2KsNForFQq5/OZ5/lcLqcYVb5PQ6EQatTv97WLsCybyWR+7SGD+n7Xk+/7RP9/6c8AAAD//7gNqJEnHus0AAAAAElFTkSuQmCC\"><figcaption style=\"text-align: center;\">([2])</figcaption></figure></td>\n",
       "<td><figure style=\"padding:4px;text-align: center;\"><img width=\"56\" height=\"56\" src=\"data:image/png;base64,iVBORw0KGgoAAAANSUhEUgAAABwAAAAcCAIAAAD9b0jDAAABxUlEQVR4nOyUsc/pUBiHi5sIx9KhHUwsJk0HG2tN/gMLadLFbJOY2YTNIDExdSMRJBgxFInNaNLEQpG8r97knnxN833fbb5WbmK4z3bet3n669tzjp/5B/yXvoc0FAoNBgPTNNvt9qvvFz9QVRUAEFHX9WQy6VEXjUZVVUVEsEGX2WzWi1GSpNVqZVm22+1LUkLIdDo1DINacrkcz/ORSGS323mUEkKWyyUi3m63yWRCCLFamqYhommajUbDXcxarYaIl8tFlmV7XRAEXdcB4Hw+x+NxF0ZJkgzDQMRKpfKppSgKnUaz2XQXczweA8D1ek2n0/Y6y7KbzYZKOY5zYSyXy/f7HQCq1aq9TgiZz+fU2Gq13MUcjUb4h09G+t8o9XrdwfDNMTU/sCosyw6Hw1Qq9bX1U6lFLBYTBEFRlNlslslkNE0rlUrOur+Sz+fp4I7HI909ANDv9zmOE0WRLp0//xuCwWCn07HOzOFwKBaLfr+f3ik/kf76Wno8HrIsr9frcDh8Op263a696/P5GIZZLBbukjpgJeV53uGxt7n5GYYpFAoO3YArVyAQeD6fiUSi1+vt93tvgTzyTjN15ncAAAD//5/APp4tXIHCAAAAAElFTkSuQmCC\"><figcaption style=\"text-align: center;\">([9])</figcaption></figure></td>\n",
       "<td><figure style=\"padding:4px;text-align: center;\"><img width=\"56\" height=\"56\" src=\"data:image/png;base64,iVBORw0KGgoAAAANSUhEUgAAABwAAAAcCAIAAAD9b0jDAAAB1klEQVR4nOyVMeviPBzHk+c566RopNZbq+BU6OIbcHbR2aWIIgVxkOLad+BmHRQHobObbg4qODhIJ0EUsZNYRFDQoi0HFxA5o4ft/YeD+0xt+vt9+iVN0v/AF/BP+pdIvxFHRVHM5XLdbhffLpdLVVXdvkpVVfsBy7JM01QUpVqtCoLgUGoYhv2C2+12PB43m00+n3/V/j9xlKZpnuc9Hs/zIwghRVF+vz+VSum6PpvNPgjLMMz3nySTyX6/T0xdLBaJveQPBQDYbrf4IpvN8jz/XHA+nxeLxQcx70iSdLlcnjP2er1oNOrECACYz+e/6EqlEsdxgUDgTddvFr8sy6fT6XEkFArtdrvD4eAwJqbZbDYaDU3T7mGHw2EkEnElxSiKIsvyfr/H3tFoxDDMH/ACAPDa0nXdtu3xeBwOh4ll5MX/CghhOp2u1WoIoUQisVqtptOp26QIoUqlcp/cwWDg1ogJBoOTyQRL6/U6seaz85SiKJZl8VRCCDVNI5a93KYYr9fr8/kAACzLCoJA03Qmk/koB4F2u008SgzDKJfLHMc5kT5u0+v1alnWer2WJKlQKLzpgu+loigihGKxmGmanU4nHo+3Wi0n6dzzJX/THwEAAP//kqk0bFVDt6wAAAAASUVORK5CYII=\"><figcaption style=\"text-align: center;\">([3])</figcaption></figure></td>\n",
       "<td><figure style=\"padding:4px;text-align: center;\"><img width=\"56\" height=\"56\" src=\"data:image/png;base64,iVBORw0KGgoAAAANSUhEUgAAABwAAAAcCAIAAAD9b0jDAAABhklEQVR4nOyVsWoyQRDHPz7DqSAsyFWCKNjJYmMhWNjvA6iV4hPYWW5tY6mwNr6AhYUvYGcnNlYr54hwhYpiJRazBiIhiZ6etxpCIL/qGOZ+9+dmlv3/7xv4k/6ENBaL9ft9pdTxeBRCMMZ8Pt9D30yn08vlEr9SqVQekkop8YL1ep3JZPSls9nsUoqIvV7vxlsu/7TVatmfKBQK8/lcP+M1BoOBa9KX+3V+v980zWg06trpIE0kEpvNZrvdUkqr1WooFFJKSSkZY+FwOB6P35/jg0ajAQCTyWS32zlOCRGLxaIHo2mao9HomuuEZVneYpbL5dtGRNzv99ls9oZE5+wbhsEY8yAFAEQ8K06n07MKpdRbkG63a73DOSeEBINB8katVhuPx6576plcLnc4HIbDYSAQeKbXtm1EzOfzyWSSc55KpZ4grdfrpx1YLBaIWCqVzhp0pt9utwHAMIxIJOLYoCMFACHE6VkptVqtNCQOEEKazSYidjqd5xhd+T1X9GsAAAD///QVMq1mx1YeAAAAAElFTkSuQmCC\"><figcaption style=\"text-align: center;\">([2])</figcaption></figure></td>\n",
       "<td><figure style=\"padding:4px;text-align: center;\"><img width=\"56\" height=\"56\" src=\"data:image/png;base64,iVBORw0KGgoAAAANSUhEUgAAABwAAAAcCAIAAAD9b0jDAAABrklEQVR4nOzVL6vCUBgG8DNl+KcoA4tlhqHBIorRoEEsFmfRJMcg5n0LwQ9gFQwGk2AQsYmyqTBkgghOBBHDksI4OOcNg3uH4cqZs1zu086z7bd35Z0DfCD/6J9BvV7vcDi0Ga1UKoqi2IkSBMGy7G63e+p9Pl8oFMJ6009yudzpdHp6nmGYxWJxuVxomsYWKYoSBKHRaJjLUqm02Wwej4cgCFbGjMfjmqbl8/nvJpVKqap6OBxWq1Wz2bSC9vt9hJDT6TSODMOs12ue5yORyPF45DgOW4zFYgihQqFgHAOBwHK5nE6nJEmWy2VVVcPhMDbK87wsyyRJAgBomp7P55PJxOVyAQCq1Wqv18MWAQCyLNfrdYIgarWaoijtdtvj8RiXRFFstVrYot/vP5/P3W5XkqTb7WYmMpmMpmnZbNbKpBzHjcfj0WiUSCTMPYRwNptZEX/JYDDodDp2iul0Wtd1lmXtRCGE+/3e4XixMfD2abFYFEVR1/X3ZjMlGo0ihCCEtokAgGQyud1u3W73yzsxPj8YDF6v1/v9bicqSRJFUdZ385v5yN/0KwAA//+D7Kcoc11YygAAAABJRU5ErkJggg==\"><figcaption style=\"text-align: center;\">([4])</figcaption></figure></td>\n",
       "<td><figure style=\"padding:4px;text-align: center;\"><img width=\"56\" height=\"56\" src=\"data:image/png;base64,iVBORw0KGgoAAAANSUhEUgAAABwAAAAcCAIAAAD9b0jDAAAB2ElEQVR4nOyVPavqMBjHYy2IL6O6tIvgYiWgOLiIk+BQX3HyC7iK4KijgpNrwU1wca2LSBARXKSLH6CLpZP1ZRAJEr0cA3LRe86lPb3DhfObwtPm14T885QB/4Afqf2wXzwTRVGWZTpeLpc8z69WK8MwaGW9Xi8WC03TzH1QEARN08iD2+1G3jgej6Iovk90fO3lOC6RSPA8H4vFnsVAIFAoFOhYluVSqWRuse8wDBOPx3VdJ4Touh4Oh79rBABks1m69+1222w2v6tLp9OTyeR6vVIphNC6i2XZVCrV6/UulwvVqaoKIWQYS3GMRCKNRmM6nb6c/mg08ng8Vow8zx8Oh6foJVLJZNKKtFqtPhWKopTL5VAolMvlMMaEEISQxcXWarV6vZ7P538vdjqd24NgMGhF+kc2mw0hZD6fu1yuz94xd4KVSkUQBADAbDbDGNsj5TjO4fi42QghUxM/JZPJ7Pd7QsjpdIpGozYYJUkyDIMQstvtzBmdTqfvAct+9Fmv1+vz+SCE4/GY5hRj/BKGv9PtdmkwEUKDweB8Pj+jer/fVVUtFotmtwj6/f57J6YMh0O/32/aCABwu93tdpveGUVRJElqtVqhB1Z09vL//KJ/BQAA///EFzRksbFexQAAAABJRU5ErkJggg==\"><figcaption style=\"text-align: center;\">([3])</figcaption></figure></td>\n",
       "<td><figure style=\"padding:4px;text-align: center;\"><img width=\"56\" height=\"56\" src=\"data:image/png;base64,iVBORw0KGgoAAAANSUhEUgAAABwAAAAcCAIAAAD9b0jDAAAB5ElEQVR4nOzVsYviTBgG8Pm+ZRdSbBEW5AxoEbC10MY/QCysFRtBUbCy0laws7GyjGglNoIWFpKICiLaKIpBjI1iY7pACiGj8r4ebDhZjuOOLDnY4p7ymeTHzJuE/E/+Qr4Mmkgkut2uYRg+n8+GLbjd7uVyiYiyLHs8HnvEzWYDAIfDweVy2SByHLfdbuE99pya47j9fo+IhmFEIhEbRIfDMRwOEfF8PsdiMRtEQkihUAAARKzVavaImUxG13UAmM/nLy8vNohvb2+LxQIRJ5MJz/M2iIQQQRAAgFKaSqXsERmG0TQNACqVyk/9t/c8Pz9bRovFIiICgNfrfZR+v3+9Xpv9YDBwOp3WUEmS7vd7r9d7NLlcTtM0/JB+v28NFUUREfP5PCGEZdnZbHa73Sil7XY7EAg0m03z64pGo5bR0Wj09PTU6XQQkVKazWbNVYZhFEUBgFKpZBnVdb1er5svf7lc/njBarUCAFEULaA8z59Op8f4ZFlmGMZcCoVCrVbL7IPBoAWUEJJOpy+Xizk7Sqmqqo1GQ1VV8+kDgCRJ1kQz8Xj8eDyax4cfQURFUZLJ5Ovr6y/v+u+PbjgcrlarHMcJgrDb7ViWnU6n4/H4er1+Zpufzpf5m/5Df5/vAQAA//84/zhRarCPbwAAAABJRU5ErkJggg==\"><figcaption style=\"text-align: center;\">([6])</figcaption></figure></td>\n",
       "<td><figure style=\"padding:4px;text-align: center;\"><img width=\"56\" height=\"56\" src=\"data:image/png;base64,iVBORw0KGgoAAAANSUhEUgAAABwAAAAcCAIAAAD9b0jDAAABpElEQVR4nOyVMWv6QBTA7/+3iHTRjMkQIcMNiuAmkkW/gGQRxEXwS4hOjvkaAQeXTGZ3zOYi6HIhzqKXoQrn0LtCjh5BS9OLllLob3o8uF8e9967/AffwJ/056RBECCEOp2O4zhBEFBK1+v1YDDQNC3LZ3VdX61WlNLXd5JxFEWe51UqFTnpcrm8Et3Gi8VCwqgoym63S5VijFVVFaeeUr3/YnjAMxjj8XhMCDEMgxDSbrc3m41EpdVq9XK5iIrCMKzX64qiSChu0XX9cDhw6Xa7lW5IqrTf7z/AyBvl+z6NOR6PjUbjK6dShj+KItd1GWMAgFKpxIMHACHEGPNG+b5fLBYf4zVNU8zmdDrNomi1WhDCqyTfd0opQsgwDDkjhPAlxrKsZB4hJLao2+1+Lrlu1HA4fI6ZTCbNZjOXywEARqNRsrpCoSBXaa1WO5/PYq9d153P5/v9PrnvpmnKSTVN8zyPXx9jjN5g27ackWNZ1ul0+vA1ms1m+Xw+ixQA0Ov1xGwKaRiGyfctC6qqOo4j7te27XK5fJfxTn7PL/otAAD//7iuf3r+WdlxAAAAAElFTkSuQmCC\"><figcaption style=\"text-align: center;\">([5])</figcaption></figure></td>\n",
       "</tr></table>\n"
      ]
     },
     "metadata": {},
     "output_type": "display_data"
    }
   ],
   "source": [
    "import (\n",
    "    \"fmt\"\n",
    "    \"strings\"\n",
    "\t\"strconv\"\n",
    "    \"github.com/gomlx/gopjrt/dtypes\"\n",
    "    \"github.com/gomlx/gomlx/backends\"\n",
    "    \"github.com/gomlx/gomlx/examples/mnist\"\n",
    "    \"github.com/gomlx/gomlx/types/shapes\"\n",
    "    \"github.com/gomlx/gomlx/types/tensors/images\"\n",
    "    \"github.com/janpfeifer/gonb/gonbui\"\n",
    "\n",
    "    _ \"github.com/gomlx/gomlx/backends/xla\"\n",
    ")\n",
    "\n",
    "var (\n",
    "    // Model DType, used everywhere.\n",
    "    DType = dtypes.Float32\n",
    ")\n",
    "\n",
    "// sampleToNotebook generates a sample of MNIST in a GoNB Jupyter Notebook.\n",
    "func sampleToNotebook() {\n",
    "    // Load data into tensors.\n",
    "    backend := backends.New()\n",
    "    if ds, err := mnist.NewDataset(backend, \"Samples MNIST\", *flagDataDir, \"train\", DType); err != nil {\n",
    "        fmt.Printf(\"mnist.NewDataset: %v\", err)\n",
    "    } else {\n",
    "        ds.Shuffle()\n",
    "        sampleImages(ds, 10)\n",
    "    }\n",
    "   \n",
    "}\n",
    "\n",
    "// sampleTable generates and outputs one html table of samples, sampling rows x cols from the images/labels provided.\n",
    "func sampleImages(ds train.Dataset, numImages int) {\n",
    "    gonbui.DisplayHTML(fmt.Sprintf(\"<p>%s</p>\\n\", ds.Name()))\n",
    "    \n",
    "    parts := make([]string, 0, numImages+5) // Leave last part empty.\n",
    "    parts = append(parts, \"<table><tr>\")\n",
    "    for ii := 0; ii < numImages; ii++ {\n",
    "        _, inputs, labels := must.M3(ds.Yield())\n",
    "        imgTensor := inputs[0]\n",
    "        img := images.ToImage().Single(imgTensor)\n",
    "        label := labels[0].Value().([]int8)\n",
    "    \n",
    "        imgSrc := must.M1(gonbui.EmbedImageAsPNGSrc(img))\n",
    "        size := imgTensor.Shape().Dimensions[0]\n",
    "        parts = append(\n",
    "            parts, \n",
    "            fmt.Sprintf(`<td><figure style=\"padding:4px;text-align: center;\"><img width=\"%d\" height=\"%d\" src=\"%s\">` + \n",
    "                        `<figcaption style=\"text-align: center;\">(%d)</figcaption></figure></td>`, \n",
    "                        size*2, size*2, imgSrc, label),\n",
    "        )\n",
    "    }\n",
    "    parts = append(parts, \"</tr></table>\", \"\")\n",
    "    gonbui.DisplayHTML(strings.Join(parts, \"\\n\"))\n",
    "}\n",
    "\n",
    "%%\n",
    "AssertDownloaded()\n",
    "sampleToNotebook()"
   ]
  },
  {
   "cell_type": "markdown",
   "metadata": {},
   "source": [
    "## Training on MNIST\n",
    "\n",
    "### Models Support\n",
    "\n",
    "1. `flagModel` defines the model type, out of `validModels` options.\n",
    "1. `createDefaultContext` creates a context and set the default values for the MNIST models. \n",
    "1. `contextFromSettings` uses `createDefaultContext` and incorporate changes passed by the `-set` flag."
   ]
  },
  {
   "cell_type": "code",
   "execution_count": 6,
   "metadata": {},
   "outputs": [
    {
     "name": "stdout",
     "output_type": "stream",
     "text": [
      "Models: [\"linear\" \"cnn\"]\n",
      "Parameters set (-set): [\"batch_size\" \"model\" \"train_steps\"]\n",
      "\t\"/activation\": (string) relu\n",
      "\t\"/adam_dtype\": (string) float32\n",
      "\t\"/adam_epsilon\": (float64) 1e-07\n",
      "\t\"/adam_weight_decay\": (float64) 0.0001\n",
      "\t\"/batch_size\": (int) 17\n",
      "\t\"/cosine_schedule_steps\": (int) 0\n",
      "\t\"/dropout_rate\": (float64) 0.5\n",
      "\t\"/eval_batch_size\": (int) 1000\n",
      "\t\"/l1_regularization\": (float64) 0\n",
      "\t\"/l2_regularization\": (float64) 0\n",
      "\t\"/learning_rate\": (float64) 0.0001\n",
      "\t\"/loss\": (string) sparse_cross_logits\n",
      "\t\"/model\": (string) 'cnn'\n",
      "\t\"/nan_logger\": (bool) false\n",
      "\t\"/normalization\": (string) layer\n",
      "\t\"/num_checkpoints\": (int) 3\n",
      "\t\"/optimizer\": (string) adamw\n",
      "\t\"/plots\": (bool) false\n",
      "\t\"/train_steps\": (int) 10\n",
      "\t\"/triplet_loss_margin\": (float64) 0.5\n",
      "\t\"/triplet_loss_mining_strategy\": (string) Hard\n",
      "\t\"/triplet_loss_pairwise_distance_metric\": (string) L2\n",
      "Parameters set (-set): [\"batch_size\" \"model\" \"train_steps\"]\n",
      "\t\"/activation\": (string) relu\n",
      "\t\"/adam_dtype\": (string) float32\n",
      "\t\"/adam_epsilon\": (float64) 1e-07\n",
      "\t\"/adam_weight_decay\": (float64) 0.0001\n",
      "\t\"/batch_size\": (int) 17\n",
      "\t\"/cosine_schedule_steps\": (int) 0\n",
      "\t\"/dropout_rate\": (float64) 0.5\n",
      "\t\"/eval_batch_size\": (int) 1000\n",
      "\t\"/l1_regularization\": (float64) 0\n",
      "\t\"/l2_regularization\": (float64) 0\n",
      "\t\"/learning_rate\": (float64) 0.0001\n",
      "\t\"/loss\": (string) sparse_cross_logits\n",
      "\t\"/model\": (string) 'cnn'\n",
      "\t\"/nan_logger\": (bool) false\n",
      "\t\"/normalization\": (string) layer\n",
      "\t\"/num_checkpoints\": (int) 3\n",
      "\t\"/optimizer\": (string) adamw\n",
      "\t\"/plots\": (bool) false\n",
      "\t\"/train_steps\": (int) 10\n",
      "\t\"/triplet_loss_margin\": (float64) 0.5\n",
      "\t\"/triplet_loss_mining_strategy\": (string) Hard\n",
      "\t\"/triplet_loss_pairwise_distance_metric\": (string) L2\n"
     ]
    }
   ],
   "source": [
    "import (\n",
    "    \"flags\"\n",
    "    \n",
    "    \"github.com/gomlx/gomlx/ml/layers\"\n",
    "    \"github.com/gomlx/gomlx/ui/commandline\"\n",
    "    \"github.com/gomlx/gomlx/ml/train/optimizers\"\n",
    "    \"github.com/gomlx/gomlx/examples/mnist\"\n",
    "    \"github.com/gomlx/gomlx/ml/context\"\n",
    ")\n",
    "\n",
    "var (\n",
    "\tflagEval      = flag.Bool(\"eval\", true, \"Whether to evaluate the model on the validation data in the end.\")\n",
    ")\n",
    "\n",
    "// settings is bound to a \"-set\" flag to be used to set context hyperparameters.\n",
    "var settings = commandline.CreateContextSettingsFlag(CreateDefaultContext(), \"set\")\n",
    "\n",
    "// createDefaultContext sets the context with default hyperparameters\n",
    "func CreateDefaultContext() *context.Context {\n",
    "\tctx := context.New()\n",
    "\tctx.RngStateReset()\n",
    "\tctx.SetParams(map[string]any{\n",
    "\t\t// Model type to use\n",
    "\t\t\"model\":           \"linear\",\n",
    "\t\t\"loss\":            \"sparse_cross_logits\",\n",
    "\t\t\"num_checkpoints\": 3,\n",
    "\t\t\"train_steps\":     4000,\n",
    "\n",
    "\t\t// batch_size for training.\n",
    "\t\t\"batch_size\": 600,\n",
    "\n",
    "\t\t// eval_batch_size can be larger than training, it's more efficient.\n",
    "\t\t\"eval_batch_size\": 1000,\n",
    "\n",
    "\t\t// Debug parameters.\n",
    "\t\t\"nan_logger\": false, // Trigger nan error as soon as it happens -- expensive, but helps debugging.\n",
    "\n",
    "\t\t// \"plots\" trigger generating intermediary eval data for plotting, and if running in GoNB, to actually\n",
    "\t\t// draw the plot with Plotly.\n",
    "\t\t//\n",
    "\t\t// From the command-line, an easy way to monitor the metrics being generated during the training of a model\n",
    "\t\t// is using the gomlx_checkpoints tool:\n",
    "\t\t//\n",
    "\t\t//\t$ gomlx_checkpoints --metrics --metrics_labels --metrics_types=accuracy  --metrics_names='E(Tra)/#loss,E(Val)/#loss' --loop=3s \"<checkpoint_path>\"\n",
    "\t\tplotly.ParamPlots: false,\n",
    "\n",
    "\t\toptimizers.ParamOptimizer:       \"adamw\",\n",
    "\t\toptimizers.ParamLearningRate:    1e-4,\n",
    "\t\toptimizers.ParamAdamEpsilon:     1e-7,\n",
    "\t\toptimizers.ParamAdamDType:       \"float32\",\n",
    "\t\toptimizers.ParamAdamWeightDecay: 1e-4,\n",
    "\t\tcosineschedule.ParamPeriodSteps: 0,\n",
    "\t\tactivations.ParamActivation:     \"relu\",\n",
    "\t\tlayers.ParamDropoutRate:         0.5,\n",
    "\t\tlayers.ParamNormalization:       \"layer\", // \"layer\" or \"batch\"\n",
    "\t\tregularizers.ParamL2:            0.0,\n",
    "\t\tregularizers.ParamL1:            0.0,\n",
    "\n",
    "\t\t// Triplet\n",
    "\t\tlosses.ParamTripletLossPairwiseDistanceMetric: \"L2\",\n",
    "\t\tlosses.ParamTripletLossMiningStrategy:         \"Hard\",\n",
    "\t\tlosses.ParamTripletLossMargin:                 0.5,\n",
    "\t})\n",
    "\treturn ctx\n",
    "}\n",
    "\n",
    "// ContextFromSettings is the default context (createDefaultContext) changed by -set flag.\n",
    "func ContextFromSettings() (ctx *context.Context, paramsSet []string) {\n",
    "    ctx = mnist.CreateDefaultContext()\n",
    "    paramsSet = must.M1(commandline.ParseContextSettings(ctx, *settings))\n",
    "    return\n",
    "}\n",
    "\n",
    "// Let's test that we can set hyperparameters by setting it in the \"-set\" flag:\n",
    "%% -set=\"batch_size=17;model='cnn';train_steps=10\"\n",
    "fmt.Printf(\"Models: %q\\n\", mnist.ModelList)\n",
    "ctx, parametersSet := ContextFromSettings()\n",
    "fmt.Printf(\"Parameters set (-set): %q\\n\", parametersSet)\n",
    "fmt.Println(commandline.SprintContextSettings(ctx))"
   ]
  },
  {
   "cell_type": "markdown",
   "metadata": {},
   "source": [
    "### Linear model\n",
    "\n",
    "A linear model can easily get to ~92% accuracy (a random model would do 10%) with 4000 steps.\n",
    "\n",
    "Later we are going to define a CNN model to compare, and we just set a placeholder model here for now.\n",
    "\n",
    "> **Note**: \n",
    ">\n",
    "> * The code is here just to exemplify. We are actually using the same code from the [`mnist`](https://github.com/gomlx/gomlx/tree/main/examples/mnist) package."
   ]
  },
  {
   "cell_type": "code",
   "execution_count": 8,
   "metadata": {},
   "outputs": [
    {
     "name": "stdout",
     "output_type": "stream",
     "text": [
      "Logits shape for batch_size=10: (Float32)[10 10]\n"
     ]
    }
   ],
   "source": [
    "import (\n",
    "\t. \"github.com/gomlx/gomlx/graph\"\n",
    "\t\"github.com/gomlx/gomlx/ml/context\"\n",
    "\t\"github.com/gomlx/gomlx/ml/layers\"\n",
    ")\n",
    "\n",
    "var _ = NewGraph  // Make sure the graph package is in use.\n",
    "\n",
    "// LinearModelGraph builds a simple  model logistic model\n",
    "// It returns the logit, not the predictions, which works with most losses with shape `[batch_size, NumClasses]`.\n",
    "// inputs: only one tensor, with shape `[batch_size, width, height, depth]`.\n",
    "func LinearModelGraph(ctx *context.Context, spec any, inputs []*Node) []*Node {\n",
    "\tctx = ctx.In(\"model\") // Create the model by default under the \"/model\" scope.\n",
    "\tbatchSize := inputs[0].Shape().Dimensions[0]\n",
    "\tembeddings := Reshape(inputs[0], batchSize, -1)\n",
    "\tlogits := layers.DenseWithBias(ctx, embeddings, mnist.NumClasses)\n",
    "\treturn []*Node{logits}\n",
    "}\n",
    "\n",
    "%% -set=\"batch_size=10\"\n",
    "// Let's test that the logits are coming out with the right shape: we want [batch_size, 10], since there are 10 classes.\n",
    "AssertDownloaded()\n",
    "ctx, _ := ContextFromSettings()\n",
    "g := NewGraph(backends.New(), \"placeholder\")\n",
    "batchSize := context.GetParamOr(ctx, \"batch_size\", int(100))\n",
    "logits := LinearModelGraph(ctx, nil, []*Node{Parameter(g, \"images\", shapes.Make(DType, batchSize, mnist.Height, mnist.Width, mnist.Depth))})\n",
    "fmt.Printf(\"Logits shape for batch_size=%d: %s\\n\", batchSize, logits[0].Shape())"
   ]
  },
  {
   "cell_type": "markdown",
   "metadata": {},
   "source": [
    "### Training Loop\n",
    "\n",
    "With a model function defined, we use the training loop create for the MNIST.\n",
    "\n",
    "The trainer is provided in the [`mnist` package](https://github.com/gomlx/gomlx/tree/main/examples/mnist). It is straight forward (and almost the same for every different project) and does the following for us:\n",
    "\n",
    "- If a checkpoing is given (--checkpoint) and it has previously saved model, it loads hyperparmeters and trained variables.\n",
    "- Create trainer: with selected model function (see [Linear model](#Linear-model) and [Linear model for MNIST](#CNN-model-for-MNIST) sections), optimizer, loss and metrics.\n",
    "- Create a `train.Loop` and attach to it a progressbar, a periodic checkpoint saver and a plotter (`--set=\"plots=true\"`).\n",
    "- Train the selected number of train steps.\n",
    "- Report results.\n",
    "\n",
    "Below we train 4000 steps with the default settings just to check things are working."
   ]
  },
  {
   "cell_type": "code",
   "execution_count": 13,
   "metadata": {},
   "outputs": [
    {
     "name": "stdout",
     "output_type": "stream",
     "text": [
      "Training linear model:\n",
      "\t- checkpoint in /home/rener/work/mnist/linear\n"
     ]
    },
    {
     "data": {
      "text/html": [
       "<div id=\"3c72c113\"></div>"
      ]
     },
     "metadata": {},
     "output_type": "display_data"
    },
    {
     "data": {
      "text/html": []
     },
     "metadata": {},
     "output_type": "display_data"
    },
    {
     "name": "stdout",
     "output_type": "stream",
     "text": [
      "\t- restarting from global step 4000\n",
      "\t - target train_steps=4000 already reached. To train further, set a number additional to current global step.\n",
      "\n",
      "Results on train:\n",
      "\tMean Loss+Regularization (#loss+): 0.286\n",
      "\tMean Loss (#loss): 0.286\n",
      "\tMean Accuracy (#acc): 92.06%\n",
      "Results on test:\n",
      "\tMean Loss+Regularization (#loss+): 0.284\n",
      "\tMean Loss (#loss): 0.284\n",
      "\tMean Accuracy (#acc): 92.08%\n",
      "\n"
     ]
    }
   ],
   "source": [
    "var flagCheckpoint = flag.String(\"checkpoint\", \"\", \"Directory save and load checkpoints from. If left empty, no checkpoints are created.\")\n",
    "\n",
    "// trainModel with hyperparameters configured with `-set=...`.\n",
    "func trainModel() {\n",
    "    ctx, paramsSet := ContextFromSettings()\n",
    "    must.M(mnist.TrainModel(ctx, *flagDataDir, *flagCheckpoint, paramsSet))\n",
    "}\n",
    "\n",
    "// Train 50 steps, only to test things are working. No plots.\n",
    "%% --checkpoint=linear  --set=\"model=linear;train_steps=4000;plots=true\"\n",
    "trainModel()"
   ]
  },
  {
   "cell_type": "markdown",
   "metadata": {},
   "source": [
    "### CNN Model for MNIST\n",
    "\n",
    "Let's now properly define a CNN model to compare.\n",
    "\n",
    "The model was built following a [Deep MNIST for Experts](https://chromium.googlesource.com/external/github.com/tensorflow/tensorflow/+/r0.10/tensorflow/g3doc/tutorials/mnist/pros/index.md)"
   ]
  },
  {
   "cell_type": "code",
   "execution_count": 10,
   "metadata": {},
   "outputs": [
    {
     "name": "stdout",
     "output_type": "stream",
     "text": [
      "Logits shape for batch_size=10: (Float32)[10 10]\n"
     ]
    }
   ],
   "source": [
    "import (\n",
    "\t. \"github.com/gomlx/gomlx/graph\"\n",
    "\t\"github.com/gomlx/gomlx/ml/context\"\n",
    "\t\"github.com/gomlx/gomlx/examples/mnist\"\n",
    "\t\"github.com/gomlx/gomlx/ml/layers\"\n",
    "\t\"github.com/gomlx/gomlx/ml/layers/activations\"\n",
    ")\n",
    "\n",
    "// CnnModelGraph builds the CNN model for our demo.\n",
    "// It returns the logit, not the predictions, which works with most losses with shape `[batch_size, NumClasses]`.\n",
    "// inputs: only one tensor, with shape `[batch_size, width, height, depth]`.\n",
    "func CnnModelGraph(ctx *context.Context, spec any, inputs []*Node) []*Node {\n",
    "\tctx = ctx.In(\"model\") // Create the model by default under the \"/model\" scope.\n",
    "\tembeddings := CnnEmbeddings(ctx, inputs[0])\n",
    "\tlogits := layers.Dense(ctx, embeddings, true, mnist.NumClasses)\n",
    "\treturn []*Node{logits}\n",
    "}\n",
    "\n",
    "func CnnEmbeddings(ctx *context.Context, images *Node) *Node {\n",
    "\tbatchSize := images.Shape().Dimensions[0]\n",
    "\n",
    "\tlayerIdx := 0\n",
    "\tnextCtx := func(name string) *context.Context {\n",
    "\t\tnewCtx := ctx.Inf(\"%03d_%s\", layerIdx, name)\n",
    "\t\tlayerIdx++\n",
    "\t\treturn newCtx\n",
    "\t}\n",
    "\n",
    "\timages = layers.Convolution(nextCtx(\"conv\"), images).Filters(32).KernelSize(3).PadSame().Done()\n",
    "\timages.AssertDims(batchSize, 28, 28, 32)\n",
    "\timages = activations.Relu(images)\n",
    "\timages = layers.NormalizeFromContext(nextCtx(\"norm\"), images)\n",
    "\timages = MaxPool(images).Window(2).Done()\n",
    "\timages = layers.DropoutFromContext(nextCtx(\"dropout\"), images)\n",
    "\timages.AssertDims(batchSize, 14, 14, 32)\n",
    "\n",
    "\timages = layers.Convolution(nextCtx(\"conv\"), images).Filters(64).KernelSize(3).PadSame().Done()\n",
    "\timages.AssertDims(batchSize, 14, 14, 64)\n",
    "\timages = activations.Relu(images)\n",
    "\timages = layers.NormalizeFromContext(nextCtx(\"norm\"), images)\n",
    "\timages = MaxPool(images).Window(2).Done()\n",
    "\timages = layers.DropoutFromContext(nextCtx(\"dropout\"), images)\n",
    "\timages.AssertDims(batchSize, 7, 7, 64)\n",
    "\n",
    "\t// Flatten images\n",
    "\timages = Reshape(images, batchSize, -1)\n",
    "\treturn images\n",
    "}\n",
    "\n",
    "%% -set=\"batch_size=10\"\n",
    "// Let's test that the logits are coming out with the right shape: we want [batch_size, 10], since there are 10 classes.\n",
    "AssertDownloaded()\n",
    "ctx, _ := ContextFromSettings()\n",
    "g := NewGraph(backends.New(), \"placeholder\")\n",
    "batchSize := context.GetParamOr(ctx, \"batch_size\", int(100))\n",
    "logits := CnnModelGraph(ctx, nil, []*Node{Parameter(g, \"images\", shapes.Make(DType, batchSize, mnist.Height, mnist.Width, mnist.Depth))})\n",
    "fmt.Printf(\"Logits shape for batch_size=%d: %s\\n\", batchSize, logits[0].Shape())"
   ]
  },
  {
   "cell_type": "markdown",
   "metadata": {},
   "source": [
    "### CNN Model Training\n",
    "\n",
    "Let's train the CNN for real this time. "
   ]
  },
  {
   "cell_type": "code",
   "execution_count": 11,
   "metadata": {},
   "outputs": [],
   "source": [
    "// Remove a previously trained model\n",
    "!rm -rf ~/work/mnist/cnn  "
   ]
  },
  {
   "cell_type": "code",
   "execution_count": 14,
   "metadata": {},
   "outputs": [
    {
     "name": "stdout",
     "output_type": "stream",
     "text": [
      "Training cnn model:\n",
      "\t- checkpoint in /home/rener/work/mnist/cnn\n"
     ]
    },
    {
     "data": {
      "text/html": []
     },
     "metadata": {},
     "output_type": "display_data"
    },
    {
     "name": "stdout",
     "output_type": "stream",
     "text": [
      "Training (4000 steps):    0% [........................................] (16 steps/s) [2s:4m9s] [step=35] [loss+=3.249] [~loss+=4.051] [~loss=4.051] [~acc=16.02%]         "
     ]
    },
    {
     "data": {
      "text/html": []
     },
     "metadata": {},
     "output_type": "display_data"
    },
    {
     "name": "stdout",
     "output_type": "stream",
     "text": [
      "Training (4000 steps):  100% [========================================] (76 steps/s) [step=3999] [loss+=0.101] [~loss+=0.075] [~loss=0.075] [~acc=97.65%]        ]          \n",
      "\n",
      "\t- saving checkpoint@4000\n"
     ]
    },
    {
     "data": {
      "text/html": [
       "<p><b>Metric: accuracy</b></p>\n"
      ]
     },
     "metadata": {},
     "output_type": "display_data"
    },
    {
     "data": {
      "text/html": [
       "<div id=\"ac25e8e2\"></div>"
      ]
     },
     "metadata": {},
     "output_type": "display_data"
    },
    {
     "data": {
      "text/html": [
       "<script charset=\"UTF-8\">\n",
       "(() => {\n",
       "\tconst src=\"https://cdn.plot.ly/plotly-2.29.1.min.js\";\n",
       "\tvar runJSFn = function(module) {\n",
       "\t\t\n",
       "\tif (!module) {\n",
       "\t\tmodule = window.Plotly;\n",
       "\t}\n",
       "\tlet data = JSON.parse('{\"data\":[{\"type\":\"scatter\",\"line\":{\"shape\":\"linear\"},\"mode\":\"lines+markers\",\"name\":\"Train: Moving Average Accuracy\",\"x\":[10,22,36,53,73,97,126,161,203,253,313,385,471,574,698,847,1026,1241,1499,1809,2181,2627,3162,3804,4000],\"y\":[0.10969696193933487,0.13289856910705566,0.162432461977005,0.2009568214416504,0.24927930533885956,0.30585041642189026,0.3734740912914276,0.45504987239837646,0.5389623045921326,0.6215713620185852,0.6968587040901184,0.7606944441795349,0.8118381500244141,0.851292610168457,0.8803495168685913,0.9047034382820129,0.92157381772995,0.9357001185417175,0.9456959366798401,0.952698826789856,0.9607046246528625,0.9666629433631897,0.97225421667099,0.975390613079071,0.9765002727508545]},{\"type\":\"scatter\",\"line\":{\"shape\":\"linear\"},\"mode\":\"lines+markers\",\"name\":\"Eval on train: Mean Accuracy\",\"x\":[10,22,36,53,73,97,126,161,203,253,313,385,471,574,698,847,1026,1241,1499,1809,2181,2627,3162,3804,4000],\"y\":[0.19255000352859497,0.3205333352088928,0.5361499786376953,0.6646000146865845,0.7563000321388245,0.8039667010307312,0.8344333171844482,0.8577666878700256,0.8819500207901001,0.8933833241462708,0.9128833413124084,0.9253333210945129,0.9330999851226807,0.9451333284378052,0.9521333575248718,0.9605333209037781,0.9660166501998901,0.9711000323295593,0.9740000367164612,0.9776166677474976,0.9812166690826416,0.9835500121116638,0.985883355140686,0.9880833625793457,0.9884499907493591]},{\"type\":\"scatter\",\"line\":{\"shape\":\"linear\"},\"mode\":\"lines+markers\",\"name\":\"Eval on test: Mean Accuracy\",\"x\":[10,22,36,53,73,97,126,161,203,253,313,385,471,574,698,847,1026,1241,1499,1809,2181,2627,3162,3804,4000],\"y\":[0.19420000910758972,0.33090001344680786,0.5503000020980835,0.6855000257492065,0.7697000503540039,0.8147000670433044,0.8427000641822815,0.8652000427246094,0.8873000144958496,0.8994000554084778,0.9194000363349915,0.931600034236908,0.9399000406265259,0.95250004529953,0.957300066947937,0.9637000560760498,0.9688000679016113,0.9719000458717346,0.9755000472068787,0.9783000349998474,0.9816000461578369,0.9842000603675842,0.9860000610351562,0.987000048160553,0.9877000451087952]}],\"layout\":{\"legend\":{},\"title\":{\"text\":\"accuracy\"},\"xaxis\":{\"showgrid\":true,\"type\":\"log\"},\"yaxis\":{\"showgrid\":true,\"type\":\"log\"}}}');\n",
       "\tmodule.newPlot('ac25e8e2', data);\n",
       "\n",
       "\t}\n",
       "\t\n",
       "    if (typeof requirejs === \"function\") {\n",
       "        // Use RequireJS to load module.\n",
       "\t\tlet srcWithoutExtension = src.substring(0, src.lastIndexOf(\".js\"));\n",
       "        requirejs.config({\n",
       "            paths: {\n",
       "                'plotly': srcWithoutExtension\n",
       "            }\n",
       "        });\n",
       "        require(['plotly'], function(plotly) {\n",
       "            runJSFn(plotly)\n",
       "        });\n",
       "        return\n",
       "    }\n",
       "\n",
       "\tvar currentScripts = document.head.getElementsByTagName(\"script\");\n",
       "\tfor (const idx in currentScripts) {\n",
       "\t\tlet script = currentScripts[idx];\n",
       "\t\tif (script.src == src) {\n",
       "\t\t\trunJSFn(null);\n",
       "\t\t\treturn;\n",
       "\t\t}\n",
       "\t}\n",
       "\n",
       "\tvar script = document.createElement(\"script\");\n",
       "\n",
       "\tscript.charset = \"utf-8\";\n",
       "\t\n",
       "\tscript.src = src;\n",
       "\tscript.onload = script.onreadystatechange = function () { runJSFn(null); };\n",
       "\tdocument.head.appendChild(script);\t\n",
       "})();\n",
       "</script>"
      ]
     },
     "metadata": {},
     "output_type": "display_data"
    },
    {
     "data": {
      "text/html": [
       "<p><b>Metric: loss</b></p>\n"
      ]
     },
     "metadata": {},
     "output_type": "display_data"
    },
    {
     "data": {
      "text/html": [
       "<div id=\"ba06ead0\"></div>"
      ]
     },
     "metadata": {},
     "output_type": "display_data"
    },
    {
     "data": {
      "text/html": [
       "<script charset=\"UTF-8\">\n",
       "(() => {\n",
       "\tconst src=\"https://cdn.plot.ly/plotly-2.29.1.min.js\";\n",
       "\tvar runJSFn = function(module) {\n",
       "\t\t\n",
       "\tif (!module) {\n",
       "\t\tmodule = window.Plotly;\n",
       "\t}\n",
       "\tlet data = JSON.parse('{\"data\":[{\"type\":\"scatter\",\"line\":{\"shape\":\"linear\"},\"mode\":\"lines+markers\",\"name\":\"Train: Batch Loss+Regularization\",\"x\":[10,22,36,53,73,97,126,161,203,253,313,385,471,574,698,847,1026,1241,1499,1809,2181,2627,3162,3804,4000],\"y\":[4.478506565093994,3.9943196773529053,3.108177661895752,2.5594804286956787,2.033099889755249,1.6835887432098389,1.4118298292160034,1.0159497261047363,0.9693538546562195,0.7927347421646118,0.6567636728286743,0.4542996287345886,0.46886008977890015,0.3896810710430145,0.3050481677055359,0.2971067726612091,0.2708432674407959,0.1790609508752823,0.14685536921024323,0.1283876895904541,0.08553328365087509,0.08127430081367493,0.05206521600484848,0.11967626214027405,0.10085275024175644]},{\"type\":\"scatter\",\"line\":{\"shape\":\"linear\"},\"mode\":\"lines+markers\",\"name\":\"Train: Moving Average Loss+Regularization\",\"x\":[10,22,36,53,73,97,126,161,203,253,313,385,471,574,698,847,1026,1241,1499,1809,2181,2627,3162,3804,4000],\"y\":[4.831104755401611,4.40199089050293,4.025108337402344,3.6398909091949463,3.2734248638153076,2.9212820529937744,2.5510010719299316,2.143512010574341,1.7522882223129272,1.3875960111618042,1.0789090394973755,0.8317678570747375,0.6410088539123535,0.49737656116485596,0.39561718702316284,0.31488949060440063,0.2590070068836212,0.21266229450702667,0.17677441239356995,0.15093249082565308,0.12603703141212463,0.10707402229309082,0.08987917751073837,0.07892575860023499,0.0747394934296608]},{\"type\":\"scatter\",\"line\":{\"shape\":\"linear\"},\"mode\":\"lines+markers\",\"name\":\"Train: Moving Average Loss\",\"x\":[10,22,36,53,73,97,126,161,203,253,313,385,471,574,698,847,1026,1241,1499,1809,2181,2627,3162,3804,4000],\"y\":[4.831104755401611,4.40199089050293,4.025108337402344,3.6398909091949463,3.2734248638153076,2.9212820529937744,2.5510010719299316,2.143512010574341,1.7522882223129272,1.3875960111618042,1.0789090394973755,0.8317678570747375,0.6410088539123535,0.49737656116485596,0.39561718702316284,0.31488949060440063,0.2590070068836212,0.21266229450702667,0.17677441239356995,0.15093249082565308,0.12603703141212463,0.10707402229309082,0.08987917751073837,0.07892575860023499,0.0747394934296608]},{\"type\":\"scatter\",\"line\":{\"shape\":\"linear\"},\"mode\":\"lines+markers\",\"name\":\"Eval on train: Mean Loss+Regularization\",\"x\":[10,22,36,53,73,97,126,161,203,253,313,385,471,574,698,847,1026,1241,1499,1809,2181,2627,3162,3804,4000],\"y\":[2.5288138389587402,1.9087092876434326,1.3406398296356201,1.012269377708435,0.748496413230896,0.5913819670677185,0.49560901522636414,0.4274693727493286,0.35970866680145264,0.3280630111694336,0.27618029713630676,0.23986537754535675,0.21487464010715485,0.17883799970149994,0.15525443851947784,0.12870842218399048,0.11068881303071976,0.09522579610347748,0.08424761146306992,0.07269097864627838,0.060967572033405304,0.0516086146235466,0.04506930336356163,0.03826536610722542,0.03712945431470871]},{\"type\":\"scatter\",\"line\":{\"shape\":\"linear\"},\"mode\":\"lines+markers\",\"name\":\"Eval on train: Mean Loss\",\"x\":[10,22,36,53,73,97,126,161,203,253,313,385,471,574,698,847,1026,1241,1499,1809,2181,2627,3162,3804,4000],\"y\":[2.5288138389587402,1.9087092876434326,1.3406398296356201,1.012269377708435,0.748496413230896,0.5913819670677185,0.49560901522636414,0.4274693727493286,0.35970866680145264,0.3280630111694336,0.27618029713630676,0.23986537754535675,0.21487464010715485,0.17883799970149994,0.15525443851947784,0.12870842218399048,0.11068881303071976,0.09522579610347748,0.08424761146306992,0.07269097864627838,0.060967572033405304,0.0516086146235466,0.04506930336356163,0.03826536610722542,0.03712945431470871]},{\"type\":\"scatter\",\"line\":{\"shape\":\"linear\"},\"mode\":\"lines+markers\",\"name\":\"Eval on test: Mean Loss+Regularization\",\"x\":[10,22,36,53,73,97,126,161,203,253,313,385,471,574,698,847,1026,1241,1499,1809,2181,2627,3162,3804,4000],\"y\":[2.5147900581359863,1.8914047479629517,1.3208948373794556,0.9801594018936157,0.7138553857803345,0.5591122508049011,0.4654527008533478,0.40079614520072937,0.33621785044670105,0.30695945024490356,0.2556297481060028,0.22287185490131378,0.19654299318790436,0.16467048227787018,0.1424650251865387,0.1186118945479393,0.1004401445388794,0.08632185310125351,0.07600121200084686,0.06533408164978027,0.053824521601200104,0.046734292060136795,0.0419660359621048,0.03677217662334442,0.035174790769815445]},{\"type\":\"scatter\",\"line\":{\"shape\":\"linear\"},\"mode\":\"lines+markers\",\"name\":\"Eval on test: Mean Loss\",\"x\":[10,22,36,53,73,97,126,161,203,253,313,385,471,574,698,847,1026,1241,1499,1809,2181,2627,3162,3804,4000],\"y\":[2.5147900581359863,1.8914047479629517,1.3208948373794556,0.9801594018936157,0.7138553857803345,0.5591122508049011,0.4654527008533478,0.40079614520072937,0.33621785044670105,0.30695945024490356,0.2556297481060028,0.22287185490131378,0.19654299318790436,0.16467048227787018,0.1424650251865387,0.1186118945479393,0.1004401445388794,0.08632185310125351,0.07600121200084686,0.06533408164978027,0.053824521601200104,0.046734292060136795,0.0419660359621048,0.03677217662334442,0.035174790769815445]}],\"layout\":{\"legend\":{},\"title\":{\"text\":\"loss\"},\"xaxis\":{\"showgrid\":true,\"type\":\"log\"},\"yaxis\":{\"showgrid\":true,\"type\":\"log\"}}}');\n",
       "\tmodule.newPlot('ba06ead0', data);\n",
       "\n",
       "\t}\n",
       "\t\n",
       "    if (typeof requirejs === \"function\") {\n",
       "        // Use RequireJS to load module.\n",
       "\t\tlet srcWithoutExtension = src.substring(0, src.lastIndexOf(\".js\"));\n",
       "        requirejs.config({\n",
       "            paths: {\n",
       "                'plotly': srcWithoutExtension\n",
       "            }\n",
       "        });\n",
       "        require(['plotly'], function(plotly) {\n",
       "            runJSFn(plotly)\n",
       "        });\n",
       "        return\n",
       "    }\n",
       "\n",
       "\tvar currentScripts = document.head.getElementsByTagName(\"script\");\n",
       "\tfor (const idx in currentScripts) {\n",
       "\t\tlet script = currentScripts[idx];\n",
       "\t\tif (script.src == src) {\n",
       "\t\t\trunJSFn(null);\n",
       "\t\t\treturn;\n",
       "\t\t}\n",
       "\t}\n",
       "\n",
       "\tvar script = document.createElement(\"script\");\n",
       "\n",
       "\tscript.charset = \"utf-8\";\n",
       "\t\n",
       "\tscript.src = src;\n",
       "\tscript.onload = script.onreadystatechange = function () { runJSFn(null); };\n",
       "\tdocument.head.appendChild(script);\t\n",
       "})();\n",
       "</script>"
      ]
     },
     "metadata": {},
     "output_type": "display_data"
    },
    {
     "name": "stdout",
     "output_type": "stream",
     "text": [
      "\t- trained to step 4000, median train step: 9567 microseconds\n",
      "\n",
      "Results on train:\n",
      "\tMean Loss+Regularization (#loss+): 0.037\n",
      "\tMean Loss (#loss): 0.037\n",
      "\tMean Accuracy (#acc): 98.84%\n",
      "Results on test:\n",
      "\tMean Loss+Regularization (#loss+): 0.035\n",
      "\tMean Loss (#loss): 0.035\n",
      "\tMean Accuracy (#acc): 98.77%\n",
      "\n"
     ]
    }
   ],
   "source": [
    "%% --checkpoint=cnn --set=\"model=cnn;train_steps=4000;plots=true\"\n",
    "trainModel()"
   ]
  },
  {
   "cell_type": "markdown",
   "metadata": {},
   "source": [
    "### CNN Model Training with Triplet Loss\n",
    "\n",
    "Let's train the CNN using triplet loss"
   ]
  },
  {
   "cell_type": "code",
   "execution_count": 13,
   "metadata": {},
   "outputs": [
    {
     "name": "stdout",
     "output_type": "stream",
     "text": [
      "Training cnn model:\n",
      "\t- checkpoint in /home/rener/work/mnist/cnn_triplet\n"
     ]
    },
    {
     "data": {
      "text/html": []
     },
     "metadata": {},
     "output_type": "display_data"
    },
    {
     "name": "stdout",
     "output_type": "stream",
     "text": [
      "Training (4000 steps):    0% [........................................] (15 steps/s) [2s:4m28s] [step=35] [loss+=0.693] [~loss+=0.691] [~loss=0.691] [~acc=10.53%]        "
     ]
    },
    {
     "data": {
      "text/html": []
     },
     "metadata": {},
     "output_type": "display_data"
    },
    {
     "name": "stdout",
     "output_type": "stream",
     "text": [
      "Training (4000 steps):  100% [========================================] (68 steps/s) [step=3999] [loss+=0.693] [~loss+=0.693] [~loss=0.693] [~acc=9.94%]        ]           \n",
      "\n",
      "\t- saving checkpoint@4000\n"
     ]
    },
    {
     "data": {
      "text/html": [
       "<p><b>Metric: accuracy</b></p>\n"
      ]
     },
     "metadata": {},
     "output_type": "display_data"
    },
    {
     "data": {
      "text/html": [
       "<div id=\"db7aa4c3\"></div>"
      ]
     },
     "metadata": {},
     "output_type": "display_data"
    },
    {
     "data": {
      "text/html": [
       "<script charset=\"UTF-8\">\n",
       "(() => {\n",
       "\tconst src=\"https://cdn.plot.ly/plotly-2.29.1.min.js\";\n",
       "\tvar runJSFn = function(module) {\n",
       "\t\t\n",
       "\tif (!module) {\n",
       "\t\tmodule = window.Plotly;\n",
       "\t}\n",
       "\tlet data = JSON.parse('{\"data\":[{\"type\":\"scatter\",\"line\":{\"shape\":\"linear\"},\"mode\":\"lines+markers\",\"name\":\"Train: Moving Average Accuracy\",\"x\":[10,22,36,53,73,97,126,161,203,253,313,385,471,574,698,847,1026,1241,1499,1809,2181,2627,3162,3804,4000],\"y\":[0.11469696462154388,0.10847826302051544,0.10563061386346817,0.10475307703018188,0.10443693399429321,0.10340135544538498,0.10343700647354126,0.1028648093342781,0.10312065482139587,0.10232416540384293,0.10078612715005875,0.10089590400457382,0.09990784525871277,0.09984463453292847,0.0992366224527359,0.09926585108041763,0.09963823109865189,0.09958305954933167,0.09914891421794891,0.09947963804006577,0.09883596003055573,0.0993533805012703,0.09897211194038391,0.09940245747566223,0.09936889261007309]},{\"type\":\"scatter\",\"line\":{\"shape\":\"linear\"},\"mode\":\"lines+markers\",\"name\":\"Eval on train: Mean Accuracy\",\"x\":[10,22,36,53,73,97,126,161,203,253,313,385,471,574,698,847,1026,1241,1499,1809,2181,2627,3162,3804,4000],\"y\":[0.10036666691303253,0.0989999994635582,0.09885000437498093,0.09756666421890259,0.09768333286046982,0.10365000367164612,0.10154999792575836,0.09915000200271606,0.09915000200271606,0.09915000200271606,0.09915000200271606,0.09915000200271606,0.09915000200271606,0.09915000200271606,0.09915000200271606,0.09915000200271606,0.09915000200271606,0.09915000200271606,0.09915000200271606,0.09915000200271606,0.09915000200271606,0.09915000200271606,0.09915000200271606,0.09915000200271606,0.09915000200271606]},{\"type\":\"scatter\",\"line\":{\"shape\":\"linear\"},\"mode\":\"lines+markers\",\"name\":\"Eval on test: Mean Accuracy\",\"x\":[10,22,36,53,73,97,126,161,203,253,313,385,471,574,698,847,1026,1241,1499,1809,2181,2627,3162,3804,4000],\"y\":[0.10400000214576721,0.10280000418424606,0.10280000418424606,0.10280000418424606,0.10410000383853912,0.11940000206232071,0.10540000349283218,0.10090000182390213,0.10090000182390213,0.10090000182390213,0.10090000182390213,0.10090000182390213,0.10090000182390213,0.10090000182390213,0.10090000182390213,0.10090000182390213,0.10090000182390213,0.10090000182390213,0.10090000182390213,0.10090000182390213,0.10090000182390213,0.10090000182390213,0.10090000182390213,0.10090000182390213,0.10090000182390213]}],\"layout\":{\"legend\":{},\"title\":{\"text\":\"accuracy\"},\"xaxis\":{\"showgrid\":true,\"type\":\"log\"},\"yaxis\":{\"showgrid\":true,\"type\":\"log\"}}}');\n",
       "\tmodule.newPlot('db7aa4c3', data);\n",
       "\n",
       "\t}\n",
       "\t\n",
       "    if (typeof requirejs === \"function\") {\n",
       "        // Use RequireJS to load module.\n",
       "\t\tlet srcWithoutExtension = src.substring(0, src.lastIndexOf(\".js\"));\n",
       "        requirejs.config({\n",
       "            paths: {\n",
       "                'plotly': srcWithoutExtension\n",
       "            }\n",
       "        });\n",
       "        require(['plotly'], function(plotly) {\n",
       "            runJSFn(plotly)\n",
       "        });\n",
       "        return\n",
       "    }\n",
       "\n",
       "\tvar currentScripts = document.head.getElementsByTagName(\"script\");\n",
       "\tfor (const idx in currentScripts) {\n",
       "\t\tlet script = currentScripts[idx];\n",
       "\t\tif (script.src == src) {\n",
       "\t\t\trunJSFn(null);\n",
       "\t\t\treturn;\n",
       "\t\t}\n",
       "\t}\n",
       "\n",
       "\tvar script = document.createElement(\"script\");\n",
       "\n",
       "\tscript.charset = \"utf-8\";\n",
       "\t\n",
       "\tscript.src = src;\n",
       "\tscript.onload = script.onreadystatechange = function () { runJSFn(null); };\n",
       "\tdocument.head.appendChild(script);\t\n",
       "})();\n",
       "</script>"
      ]
     },
     "metadata": {},
     "output_type": "display_data"
    },
    {
     "data": {
      "text/html": [
       "<p><b>Metric: loss</b></p>\n"
      ]
     },
     "metadata": {},
     "output_type": "display_data"
    },
    {
     "data": {
      "text/html": [
       "<div id=\"aa7d052b\"></div>"
      ]
     },
     "metadata": {},
     "output_type": "display_data"
    },
    {
     "data": {
      "text/html": [
       "<script charset=\"UTF-8\">\n",
       "(() => {\n",
       "\tconst src=\"https://cdn.plot.ly/plotly-2.29.1.min.js\";\n",
       "\tvar runJSFn = function(module) {\n",
       "\t\t\n",
       "\tif (!module) {\n",
       "\t\tmodule = window.Plotly;\n",
       "\t}\n",
       "\tlet data = JSON.parse('{\"data\":[{\"type\":\"scatter\",\"line\":{\"shape\":\"linear\"},\"mode\":\"lines+markers\",\"name\":\"Train: Batch Loss+Regularization\",\"x\":[10,22,36,53,73,97,126,161,203,253,313,385,471,574,698,847,1026,1241,1499,1809,2181,2627,3162,3804,4000],\"y\":[0.6922862529754639,0.6915590167045593,0.6923121213912964,0.6927012205123901,0.692726194858551,0.6925599575042725,0.6929908990859985,0.6929304599761963,0.6929420828819275,0.6930558681488037,0.6930977702140808,0.6930198073387146,0.6930627226829529,0.6930902004241943,0.6930928230285645,0.6931095123291016,0.6930994391441345,0.6931208968162537,0.693135142326355,0.6931354403495789,0.6931335926055908,0.6931400299072266,0.6931391954421997,0.6931430697441101,0.6931436657905579]},{\"type\":\"scatter\",\"line\":{\"shape\":\"linear\"},\"mode\":\"lines+markers\",\"name\":\"Train: Moving Average Loss+Regularization\",\"x\":[10,22,36,53,73,97,126,161,203,253,313,385,471,574,698,847,1026,1241,1499,1809,2181,2627,3162,3804,4000],\"y\":[0.6894192695617676,0.6905747056007385,0.6912234425544739,0.6916534900665283,0.691942572593689,0.6921587586402893,0.6923397183418274,0.6925128698348999,0.6926750540733337,0.6928063035011292,0.6929129362106323,0.6929884552955627,0.6930389404296875,0.6930704116821289,0.6930906772613525,0.6931029558181763,0.6931124925613403,0.6931189894676208,0.6931248307228088,0.6931288838386536,0.6931341886520386,0.6931355595588684,0.6931400895118713,0.6931403279304504,0.6931405067443848]},{\"type\":\"scatter\",\"line\":{\"shape\":\"linear\"},\"mode\":\"lines+markers\",\"name\":\"Train: Moving Average Loss\",\"x\":[10,22,36,53,73,97,126,161,203,253,313,385,471,574,698,847,1026,1241,1499,1809,2181,2627,3162,3804,4000],\"y\":[0.689419150352478,0.6905747056007385,0.6912233829498291,0.6916534304618835,0.6919425129890442,0.6921586990356445,0.6923396587371826,0.6925127506256104,0.692674994468689,0.6928063035011292,0.6929129362106323,0.6929884552955627,0.6930389404296875,0.6930704116821289,0.6930906772613525,0.6931029558181763,0.6931125521659851,0.6931189894676208,0.6931248307228088,0.6931288838386536,0.6931341886520386,0.6931355595588684,0.6931400895118713,0.6931403279304504,0.69314044713974]},{\"type\":\"scatter\",\"line\":{\"shape\":\"linear\"},\"mode\":\"lines+markers\",\"name\":\"Eval on train: Mean Loss+Regularization\",\"x\":[10,22,36,53,73,97,126,161,203,253,313,385,471,574,698,847,1026,1241,1499,1809,2181,2627,3162,3804,4000],\"y\":[0.6930273771286011,0.693087100982666,0.69310462474823,0.6931176781654358,0.6931240558624268,0.6931293606758118,0.6931337714195251,0.6931371092796326,0.6931401491165161,0.6931418180465698,0.6931432485580444,0.6931441426277161,0.6931449770927429,0.6931455731391907,0.6931458115577698,0.6931463479995728,0.6931466460227966,0.6931468844413757,0.6931470036506653,0.6931470632553101,0.6931471228599548,0.6931471824645996,0.6931471824645996,0.6931471824645996,0.6931471824645996]},{\"type\":\"scatter\",\"line\":{\"shape\":\"linear\"},\"mode\":\"lines+markers\",\"name\":\"Eval on train: Mean Loss\",\"x\":[10,22,36,53,73,97,126,161,203,253,313,385,471,574,698,847,1026,1241,1499,1809,2181,2627,3162,3804,4000],\"y\":[0.6930273771286011,0.693087100982666,0.69310462474823,0.6931176781654358,0.6931240558624268,0.6931293606758118,0.6931337714195251,0.6931371092796326,0.6931401491165161,0.6931418180465698,0.6931432485580444,0.6931441426277161,0.6931449770927429,0.6931455731391907,0.6931458115577698,0.6931463479995728,0.6931466460227966,0.6931468844413757,0.6931470036506653,0.6931470632553101,0.6931471228599548,0.6931471824645996,0.6931471824645996,0.6931471824645996,0.6931471824645996]},{\"type\":\"scatter\",\"line\":{\"shape\":\"linear\"},\"mode\":\"lines+markers\",\"name\":\"Eval on test: Mean Loss+Regularization\",\"x\":[10,22,36,53,73,97,126,161,203,253,313,385,471,574,698,847,1026,1241,1499,1809,2181,2627,3162,3804,4000],\"y\":[0.6929507851600647,0.6930521130561829,0.6930931806564331,0.6931136846542358,0.6931242942810059,0.6931294798851013,0.6931341886520386,0.693138062953949,0.6931403875350952,0.6931425333023071,0.6931436657905579,0.6931444406509399,0.6931450366973877,0.6931455135345459,0.6931460499763489,0.6931464076042175,0.6931465864181519,0.693146824836731,0.6931468844413757,0.6931470036506653,0.6931470632553101,0.6931470632553101,0.6931470632553101,0.6931470632553101,0.6931470632553101]},{\"type\":\"scatter\",\"line\":{\"shape\":\"linear\"},\"mode\":\"lines+markers\",\"name\":\"Eval on test: Mean Loss\",\"x\":[10,22,36,53,73,97,126,161,203,253,313,385,471,574,698,847,1026,1241,1499,1809,2181,2627,3162,3804,4000],\"y\":[0.6929507851600647,0.6930521130561829,0.6930931806564331,0.6931136846542358,0.6931242942810059,0.6931294798851013,0.6931341886520386,0.693138062953949,0.6931403875350952,0.6931425333023071,0.6931436657905579,0.6931444406509399,0.6931450366973877,0.6931455135345459,0.6931460499763489,0.6931464076042175,0.6931465864181519,0.693146824836731,0.6931468844413757,0.6931470036506653,0.6931470632553101,0.6931470632553101,0.6931470632553101,0.6931470632553101,0.6931470632553101]}],\"layout\":{\"legend\":{},\"title\":{\"text\":\"loss\"},\"xaxis\":{\"showgrid\":true,\"type\":\"log\"},\"yaxis\":{\"showgrid\":true,\"type\":\"log\"}}}');\n",
       "\tmodule.newPlot('aa7d052b', data);\n",
       "\n",
       "\t}\n",
       "\t\n",
       "    if (typeof requirejs === \"function\") {\n",
       "        // Use RequireJS to load module.\n",
       "\t\tlet srcWithoutExtension = src.substring(0, src.lastIndexOf(\".js\"));\n",
       "        requirejs.config({\n",
       "            paths: {\n",
       "                'plotly': srcWithoutExtension\n",
       "            }\n",
       "        });\n",
       "        require(['plotly'], function(plotly) {\n",
       "            runJSFn(plotly)\n",
       "        });\n",
       "        return\n",
       "    }\n",
       "\n",
       "\tvar currentScripts = document.head.getElementsByTagName(\"script\");\n",
       "\tfor (const idx in currentScripts) {\n",
       "\t\tlet script = currentScripts[idx];\n",
       "\t\tif (script.src == src) {\n",
       "\t\t\trunJSFn(null);\n",
       "\t\t\treturn;\n",
       "\t\t}\n",
       "\t}\n",
       "\n",
       "\tvar script = document.createElement(\"script\");\n",
       "\n",
       "\tscript.charset = \"utf-8\";\n",
       "\t\n",
       "\tscript.src = src;\n",
       "\tscript.onload = script.onreadystatechange = function () { runJSFn(null); };\n",
       "\tdocument.head.appendChild(script);\t\n",
       "})();\n",
       "</script>"
      ]
     },
     "metadata": {},
     "output_type": "display_data"
    },
    {
     "name": "stdout",
     "output_type": "stream",
     "text": [
      "\t- trained to step 4000, median train step: 10624 microseconds\n",
      "\n",
      "Results on train:\n",
      "\tMean Loss+Regularization (#loss+): 0.693\n",
      "\tMean Loss (#loss): 0.693\n",
      "\tMean Accuracy (#acc): 9.92%\n",
      "Results on test:\n",
      "\tMean Loss+Regularization (#loss+): 0.693\n",
      "\tMean Loss (#loss): 0.693\n",
      "\tMean Accuracy (#acc): 10.09%\n",
      "\n"
     ]
    }
   ],
   "source": [
    "%% --checkpoint=cnn_triplet --set=\"model=cnn;loss=triplet;triplet_loss_mining_strategy=semi_hard;triplet_loss_pairwise_distance_metric=cosine;triplet_loss_margin=-1.0;train_steps=4000;plots=true\"\n",
    "trainModel()"
   ]
  },
  {
   "cell_type": "markdown",
   "metadata": {},
   "source": [
    "## Inference\n",
    "\n",
    "Inference, or serving the model, is done by using the same code as used to train the model.\n",
    "That is, currently the way to save the model is to export the Go model creation function, along with the checkpoint with learned weights.\n",
    "\n",
    "We created a small library `mnist/classifier` that takes an image as input, convert it to a tensor and calls the trained model"
   ]
  },
  {
   "cell_type": "code",
   "execution_count": null,
   "metadata": {},
   "outputs": [],
   "source": [
    "import (\n",
    "    \"encoding/base64\"\n",
    "    \"image/png\"\n",
    "    \n",
    "    \"github.com/gomlx/gomlx/examples/mnist/classifier\"\n",
    "    // We also must import then engine that will execute the model.\n",
    "    // Currently only XLA is supported.\n",
    "    _ \"github.com/gomlx/gomlx/backends/xla\"\n",
    ")\n",
    "\n",
    "%%\n",
    "// Decode and print PNG image.\n",
    "imgBase64 := bytes.NewBufferString(\"iVBORw0KGgoAAAANSUhEUgAAABwAAAAcCAIAAAD9b0jDAAAACXBIWXMAAAsTAAALEwEAmpwYAAAC+0lEQVRIia2VO0szQRSGz+6O5uKCkChWIgYEQUUjCYKlhZZWBiwsbFKIf0FSKKI2/gQhIGrAC4JBUgQEi+C1UAzYC24Es0ajk53ZGYvBEPf2+aGn2j0z85x9z2VW0nXdNE2EEOccfmeSJFFKm5ub0evrq6qqfwjFGEuVSkVVVUmSfkkUxjmvVCoyY4xS+idEAKCUcs5lWZb/ilg3VKvVAoHAP/fpur69vQ0AIlGcc4TQ9PR0S0uLA9Q0TQ+Wpmm5XI5SenBwcHh4aFm9vr5eW1tz4L68vBiGwZ0sm82OjY05BqsnLZVKNR4xDKNcLsuMMbfPLBQK+XxePA8ODo6Ojo6MjAwPD/v9flENAMhkMg7yPZopmUxijD8+Pjo6OqampgKBAGOMMZbP5+fn5zHGiqKMj487nHx6enKT72alUsnv9wNAKBTK5XLO8v+rqwzDWFpawhgDQCwWi0ajDvJ9Ph9jTFGUn+DS6fTR0dHJyYnw9Pf3t7W1OUC9R75UKl1cXMiyXKvV0un03t6e8Le2tiYSiUQi4XzMraVM01xfXx8aGoKvhm+0lZUVx3SLnCKMcTAYtAdjjC0uLj4/PwOAXc3j46OHPknTtFAohBCyQ3d2dnZ3d3t6etrb2ymlwWBQ1/X9/f2rq6ve3t7z83NVVS2nCCHVahV0XfdoKYyxxSPGIRqNvr29ucn3migA8Pl8Fk9nZ6fQ4TE1zlefiGn3X15ezszMAIA9Xd+ghBBLzM3NzXg8XiwWLVtvb28nJycLhQIAmKbZ1NTkBrUGXF1dXVhYIIQcHx9TSt/f3xFClNJsNru1tfXw8AAA8Xg8lUp5QK19OjExIfxdXV19fX2RSCQSiYg8AoCiKLOzs/f3926FFYWyVv/u7m5ubs4eOxwOJ5PJ09NTN9w3qH2iCCEbGxviHxOLxZaXl8/OzorFYrVa9SbWoZKmaeFw2H6h3NzclMvl7u7uuvafmGh+5NYcAwMDP2dZTJZlmRBSf2eM8a9J55w3vgqP22rj0ieuZu0WF49iIgAAAABJRU5ErkJggg==\")\n",
    "imgPNG := must.M1(io.ReadAll(base64.NewDecoder(base64.StdEncoding, imgBase64)))\n",
    "img := must.M1(png.Decode(bytes.NewBuffer(imgPNG)))\n",
    "size := img.Bounds()\n",
    "gonbui.DisplayHTML(fmt.Sprintf(\"<p>Image: (%d x %d)</p>\", size.Dx(), size.Dy()))\n",
    "gonbui.DisplayPNG(imgPNG)\n",
    "\n",
    "// Classify:\n",
    "inference := must.M1(classifier.New(\"~/work/mnist/cnn\"))\n",
    "classID := must.M1(inference.Classify(img))\n",
    "gonbui.DisplayHTML(fmt.Sprintf(\"<p>Class: <b>(%d)</b></p>\", classID))"
   ]
  }
 ],
 "metadata": {
  "kernelspec": {
   "display_name": "Go (gonb)",
   "language": "go",
   "name": "gonb"
  },
  "language_info": {
   "codemirror_mode": "",
   "file_extension": ".go",
   "mimetype": "text/x-go",
   "name": "go",
   "nbconvert_exporter": "",
   "pygments_lexer": "",
   "version": "go1.24.0"
  }
 },
 "nbformat": 4,
 "nbformat_minor": 2
}
